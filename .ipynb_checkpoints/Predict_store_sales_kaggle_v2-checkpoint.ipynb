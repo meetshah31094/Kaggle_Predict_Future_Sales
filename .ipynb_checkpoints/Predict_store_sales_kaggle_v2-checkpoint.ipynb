{
 "cells": [
  {
   "cell_type": "code",
   "execution_count": 1,
   "metadata": {
    "collapsed": true
   },
   "outputs": [],
   "source": [
    "import numpy as np\n",
    "import pandas as pd\n",
    "import matplotlib.pyplot as plt\n",
    "import seaborn as sns\n",
    "\n",
    "from datetime import datetime, date\n",
    "\n",
    "from sklearn.preprocessing import StandardScaler\n",
    "\n",
    "\n",
    "%matplotlib inline\n",
    "\n",
    "import matplotlib.pyplot as plt\n",
    "%matplotlib inline\n",
    "import seaborn as sns\n",
    "import sklearn\n",
    "import scipy.sparse \n",
    "import lightgbm \n",
    "import gc\n",
    "\n",
    "import lightgbm as lgb\n",
    "from sklearn.linear_model import LinearRegression\n",
    "from sklearn.metrics import r2_score\n",
    "from sklearn.metrics import mean_squared_error"
   ]
  },
  {
   "cell_type": "code",
   "execution_count": 120,
   "metadata": {
    "collapsed": true
   },
   "outputs": [],
   "source": [
    "import time\n",
    "from xgboost import XGBRegressor\n",
    "from xgboost import plot_importance\n",
    "\n",
    "def plot_features(booster, figsize):    \n",
    "    fig, ax = plt.subplots(1,1,figsize=figsize)\n",
    "    return plot_importance(booster=booster, ax=ax)"
   ]
  },
  {
   "cell_type": "code",
   "execution_count": 3,
   "metadata": {
    "collapsed": false
   },
   "outputs": [],
   "source": [
    "train_data=pd.read_csv('D:\\Kaggle\\competitive-data-science-predict-future-sales\\sales_train_v2.csv')"
   ]
  },
  {
   "cell_type": "code",
   "execution_count": 4,
   "metadata": {
    "collapsed": false
   },
   "outputs": [
    {
     "data": {
      "text/html": [
       "<div>\n",
       "<style scoped>\n",
       "    .dataframe tbody tr th:only-of-type {\n",
       "        vertical-align: middle;\n",
       "    }\n",
       "\n",
       "    .dataframe tbody tr th {\n",
       "        vertical-align: top;\n",
       "    }\n",
       "\n",
       "    .dataframe thead th {\n",
       "        text-align: right;\n",
       "    }\n",
       "</style>\n",
       "<table border=\"1\" class=\"dataframe\">\n",
       "  <thead>\n",
       "    <tr style=\"text-align: right;\">\n",
       "      <th></th>\n",
       "      <th>date</th>\n",
       "      <th>date_block_num</th>\n",
       "      <th>shop_id</th>\n",
       "      <th>item_id</th>\n",
       "      <th>item_price</th>\n",
       "      <th>item_cnt_day</th>\n",
       "    </tr>\n",
       "  </thead>\n",
       "  <tbody>\n",
       "    <tr>\n",
       "      <th>0</th>\n",
       "      <td>02.01.2013</td>\n",
       "      <td>0</td>\n",
       "      <td>59</td>\n",
       "      <td>22154</td>\n",
       "      <td>999.00</td>\n",
       "      <td>1.0</td>\n",
       "    </tr>\n",
       "    <tr>\n",
       "      <th>1</th>\n",
       "      <td>03.01.2013</td>\n",
       "      <td>0</td>\n",
       "      <td>25</td>\n",
       "      <td>2552</td>\n",
       "      <td>899.00</td>\n",
       "      <td>1.0</td>\n",
       "    </tr>\n",
       "    <tr>\n",
       "      <th>2</th>\n",
       "      <td>05.01.2013</td>\n",
       "      <td>0</td>\n",
       "      <td>25</td>\n",
       "      <td>2552</td>\n",
       "      <td>899.00</td>\n",
       "      <td>-1.0</td>\n",
       "    </tr>\n",
       "    <tr>\n",
       "      <th>3</th>\n",
       "      <td>06.01.2013</td>\n",
       "      <td>0</td>\n",
       "      <td>25</td>\n",
       "      <td>2554</td>\n",
       "      <td>1709.05</td>\n",
       "      <td>1.0</td>\n",
       "    </tr>\n",
       "    <tr>\n",
       "      <th>4</th>\n",
       "      <td>15.01.2013</td>\n",
       "      <td>0</td>\n",
       "      <td>25</td>\n",
       "      <td>2555</td>\n",
       "      <td>1099.00</td>\n",
       "      <td>1.0</td>\n",
       "    </tr>\n",
       "  </tbody>\n",
       "</table>\n",
       "</div>"
      ],
      "text/plain": [
       "         date  date_block_num  shop_id  item_id  item_price  item_cnt_day\n",
       "0  02.01.2013               0       59    22154      999.00           1.0\n",
       "1  03.01.2013               0       25     2552      899.00           1.0\n",
       "2  05.01.2013               0       25     2552      899.00          -1.0\n",
       "3  06.01.2013               0       25     2554     1709.05           1.0\n",
       "4  15.01.2013               0       25     2555     1099.00           1.0"
      ]
     },
     "execution_count": 4,
     "metadata": {},
     "output_type": "execute_result"
    }
   ],
   "source": [
    "train_data.head()"
   ]
  },
  {
   "cell_type": "code",
   "execution_count": 6,
   "metadata": {
    "collapsed": false
   },
   "outputs": [],
   "source": [
    "item_data=pd.read_csv('items.csv')"
   ]
  },
  {
   "cell_type": "code",
   "execution_count": 8,
   "metadata": {
    "collapsed": false
   },
   "outputs": [],
   "source": [
    "item_cat_data=pd.read_csv('item_categories.csv')"
   ]
  },
  {
   "cell_type": "code",
   "execution_count": 9,
   "metadata": {
    "collapsed": false
   },
   "outputs": [
    {
     "data": {
      "text/html": [
       "<div>\n",
       "<style scoped>\n",
       "    .dataframe tbody tr th:only-of-type {\n",
       "        vertical-align: middle;\n",
       "    }\n",
       "\n",
       "    .dataframe tbody tr th {\n",
       "        vertical-align: top;\n",
       "    }\n",
       "\n",
       "    .dataframe thead th {\n",
       "        text-align: right;\n",
       "    }\n",
       "</style>\n",
       "<table border=\"1\" class=\"dataframe\">\n",
       "  <thead>\n",
       "    <tr style=\"text-align: right;\">\n",
       "      <th></th>\n",
       "      <th>item_name</th>\n",
       "      <th>item_id</th>\n",
       "      <th>item_category_id</th>\n",
       "    </tr>\n",
       "  </thead>\n",
       "  <tbody>\n",
       "    <tr>\n",
       "      <th>0</th>\n",
       "      <td>! ВО ВЛАСТИ НАВАЖДЕНИЯ (ПЛАСТ.)         D</td>\n",
       "      <td>0</td>\n",
       "      <td>40</td>\n",
       "    </tr>\n",
       "    <tr>\n",
       "      <th>1</th>\n",
       "      <td>!ABBYY FineReader 12 Professional Edition Full...</td>\n",
       "      <td>1</td>\n",
       "      <td>76</td>\n",
       "    </tr>\n",
       "    <tr>\n",
       "      <th>2</th>\n",
       "      <td>***В ЛУЧАХ СЛАВЫ   (UNV)                    D</td>\n",
       "      <td>2</td>\n",
       "      <td>40</td>\n",
       "    </tr>\n",
       "    <tr>\n",
       "      <th>3</th>\n",
       "      <td>***ГОЛУБАЯ ВОЛНА  (Univ)                      D</td>\n",
       "      <td>3</td>\n",
       "      <td>40</td>\n",
       "    </tr>\n",
       "    <tr>\n",
       "      <th>4</th>\n",
       "      <td>***КОРОБКА (СТЕКЛО)                       D</td>\n",
       "      <td>4</td>\n",
       "      <td>40</td>\n",
       "    </tr>\n",
       "  </tbody>\n",
       "</table>\n",
       "</div>"
      ],
      "text/plain": [
       "                                           item_name  item_id  \\\n",
       "0          ! ВО ВЛАСТИ НАВАЖДЕНИЯ (ПЛАСТ.)         D        0   \n",
       "1  !ABBYY FineReader 12 Professional Edition Full...        1   \n",
       "2      ***В ЛУЧАХ СЛАВЫ   (UNV)                    D        2   \n",
       "3    ***ГОЛУБАЯ ВОЛНА  (Univ)                      D        3   \n",
       "4        ***КОРОБКА (СТЕКЛО)                       D        4   \n",
       "\n",
       "   item_category_id  \n",
       "0                40  \n",
       "1                76  \n",
       "2                40  \n",
       "3                40  \n",
       "4                40  "
      ]
     },
     "execution_count": 9,
     "metadata": {},
     "output_type": "execute_result"
    }
   ],
   "source": [
    "item_data.head()"
   ]
  },
  {
   "cell_type": "code",
   "execution_count": 11,
   "metadata": {
    "collapsed": false
   },
   "outputs": [
    {
     "data": {
      "text/html": [
       "<div>\n",
       "<style scoped>\n",
       "    .dataframe tbody tr th:only-of-type {\n",
       "        vertical-align: middle;\n",
       "    }\n",
       "\n",
       "    .dataframe tbody tr th {\n",
       "        vertical-align: top;\n",
       "    }\n",
       "\n",
       "    .dataframe thead th {\n",
       "        text-align: right;\n",
       "    }\n",
       "</style>\n",
       "<table border=\"1\" class=\"dataframe\">\n",
       "  <thead>\n",
       "    <tr style=\"text-align: right;\">\n",
       "      <th></th>\n",
       "      <th>item_category_name</th>\n",
       "      <th>item_category_id</th>\n",
       "    </tr>\n",
       "  </thead>\n",
       "  <tbody>\n",
       "    <tr>\n",
       "      <th>0</th>\n",
       "      <td>PC - Гарнитуры/Наушники</td>\n",
       "      <td>0</td>\n",
       "    </tr>\n",
       "    <tr>\n",
       "      <th>1</th>\n",
       "      <td>Аксессуары - PS2</td>\n",
       "      <td>1</td>\n",
       "    </tr>\n",
       "    <tr>\n",
       "      <th>2</th>\n",
       "      <td>Аксессуары - PS3</td>\n",
       "      <td>2</td>\n",
       "    </tr>\n",
       "    <tr>\n",
       "      <th>3</th>\n",
       "      <td>Аксессуары - PS4</td>\n",
       "      <td>3</td>\n",
       "    </tr>\n",
       "    <tr>\n",
       "      <th>4</th>\n",
       "      <td>Аксессуары - PSP</td>\n",
       "      <td>4</td>\n",
       "    </tr>\n",
       "  </tbody>\n",
       "</table>\n",
       "</div>"
      ],
      "text/plain": [
       "        item_category_name  item_category_id\n",
       "0  PC - Гарнитуры/Наушники                 0\n",
       "1         Аксессуары - PS2                 1\n",
       "2         Аксессуары - PS3                 2\n",
       "3         Аксессуары - PS4                 3\n",
       "4         Аксессуары - PSP                 4"
      ]
     },
     "execution_count": 11,
     "metadata": {},
     "output_type": "execute_result"
    }
   ],
   "source": [
    "item_cat_data.head()"
   ]
  },
  {
   "cell_type": "code",
   "execution_count": 12,
   "metadata": {
    "collapsed": false
   },
   "outputs": [
    {
     "data": {
      "text/plain": [
       "(2935849, 6)"
      ]
     },
     "execution_count": 12,
     "metadata": {},
     "output_type": "execute_result"
    }
   ],
   "source": [
    "train_data.shape"
   ]
  },
  {
   "cell_type": "code",
   "execution_count": 16,
   "metadata": {
    "collapsed": false
   },
   "outputs": [
    {
     "data": {
      "text/plain": [
       "date               1034\n",
       "date_block_num       34\n",
       "shop_id              60\n",
       "item_id           21807\n",
       "item_price        19993\n",
       "item_cnt_day        198\n",
       "dtype: int64"
      ]
     },
     "execution_count": 16,
     "metadata": {},
     "output_type": "execute_result"
    }
   ],
   "source": [
    "train_data.nunique()"
   ]
  },
  {
   "cell_type": "code",
   "execution_count": 17,
   "metadata": {
    "collapsed": true
   },
   "outputs": [],
   "source": [
    "train_data['key']=train_data['shop_id'].map(str)+train_data['item_id'].map(str)"
   ]
  },
  {
   "cell_type": "code",
   "execution_count": 22,
   "metadata": {
    "collapsed": false
   },
   "outputs": [
    {
     "data": {
      "text/plain": [
       "date               object\n",
       "date_block_num      int64\n",
       "shop_id             int64\n",
       "item_id             int64\n",
       "item_price        float64\n",
       "item_cnt_day      float64\n",
       "key                object\n",
       "dtype: object"
      ]
     },
     "execution_count": 22,
     "metadata": {},
     "output_type": "execute_result"
    }
   ],
   "source": [
    "train_data.dtypes"
   ]
  },
  {
   "cell_type": "code",
   "execution_count": 32,
   "metadata": {
    "collapsed": false
   },
   "outputs": [],
   "source": [
    "train_data[\"month\"]=train_data.date_block_num%12+1"
   ]
  },
  {
   "cell_type": "code",
   "execution_count": 33,
   "metadata": {
    "collapsed": false
   },
   "outputs": [
    {
     "data": {
      "text/html": [
       "<div>\n",
       "<style scoped>\n",
       "    .dataframe tbody tr th:only-of-type {\n",
       "        vertical-align: middle;\n",
       "    }\n",
       "\n",
       "    .dataframe tbody tr th {\n",
       "        vertical-align: top;\n",
       "    }\n",
       "\n",
       "    .dataframe thead th {\n",
       "        text-align: right;\n",
       "    }\n",
       "</style>\n",
       "<table border=\"1\" class=\"dataframe\">\n",
       "  <thead>\n",
       "    <tr style=\"text-align: right;\">\n",
       "      <th></th>\n",
       "      <th>date</th>\n",
       "      <th>date_block_num</th>\n",
       "      <th>shop_id</th>\n",
       "      <th>item_id</th>\n",
       "      <th>item_price</th>\n",
       "      <th>item_cnt_day</th>\n",
       "      <th>key</th>\n",
       "      <th>month</th>\n",
       "    </tr>\n",
       "  </thead>\n",
       "  <tbody>\n",
       "    <tr>\n",
       "      <th>0</th>\n",
       "      <td>02.01.2013</td>\n",
       "      <td>0</td>\n",
       "      <td>59</td>\n",
       "      <td>22154</td>\n",
       "      <td>999.00</td>\n",
       "      <td>1.0</td>\n",
       "      <td>5922154</td>\n",
       "      <td>1</td>\n",
       "    </tr>\n",
       "    <tr>\n",
       "      <th>1</th>\n",
       "      <td>03.01.2013</td>\n",
       "      <td>0</td>\n",
       "      <td>25</td>\n",
       "      <td>2552</td>\n",
       "      <td>899.00</td>\n",
       "      <td>1.0</td>\n",
       "      <td>252552</td>\n",
       "      <td>1</td>\n",
       "    </tr>\n",
       "    <tr>\n",
       "      <th>2</th>\n",
       "      <td>05.01.2013</td>\n",
       "      <td>0</td>\n",
       "      <td>25</td>\n",
       "      <td>2552</td>\n",
       "      <td>899.00</td>\n",
       "      <td>-1.0</td>\n",
       "      <td>252552</td>\n",
       "      <td>1</td>\n",
       "    </tr>\n",
       "    <tr>\n",
       "      <th>3</th>\n",
       "      <td>06.01.2013</td>\n",
       "      <td>0</td>\n",
       "      <td>25</td>\n",
       "      <td>2554</td>\n",
       "      <td>1709.05</td>\n",
       "      <td>1.0</td>\n",
       "      <td>252554</td>\n",
       "      <td>1</td>\n",
       "    </tr>\n",
       "    <tr>\n",
       "      <th>4</th>\n",
       "      <td>15.01.2013</td>\n",
       "      <td>0</td>\n",
       "      <td>25</td>\n",
       "      <td>2555</td>\n",
       "      <td>1099.00</td>\n",
       "      <td>1.0</td>\n",
       "      <td>252555</td>\n",
       "      <td>1</td>\n",
       "    </tr>\n",
       "  </tbody>\n",
       "</table>\n",
       "</div>"
      ],
      "text/plain": [
       "         date  date_block_num  shop_id  item_id  item_price  item_cnt_day  \\\n",
       "0  02.01.2013               0       59    22154      999.00           1.0   \n",
       "1  03.01.2013               0       25     2552      899.00           1.0   \n",
       "2  05.01.2013               0       25     2552      899.00          -1.0   \n",
       "3  06.01.2013               0       25     2554     1709.05           1.0   \n",
       "4  15.01.2013               0       25     2555     1099.00           1.0   \n",
       "\n",
       "       key  month  \n",
       "0  5922154      1  \n",
       "1   252552      1  \n",
       "2   252552      1  \n",
       "3   252554      1  \n",
       "4   252555      1  "
      ]
     },
     "execution_count": 33,
     "metadata": {},
     "output_type": "execute_result"
    }
   ],
   "source": [
    "train_data.head()"
   ]
  },
  {
   "cell_type": "code",
   "execution_count": 39,
   "metadata": {
    "collapsed": false
   },
   "outputs": [],
   "source": [
    "train_data['year']=train_data.date.str[-4:].map(int)"
   ]
  },
  {
   "cell_type": "code",
   "execution_count": 40,
   "metadata": {
    "collapsed": false
   },
   "outputs": [
    {
     "data": {
      "text/html": [
       "<div>\n",
       "<style scoped>\n",
       "    .dataframe tbody tr th:only-of-type {\n",
       "        vertical-align: middle;\n",
       "    }\n",
       "\n",
       "    .dataframe tbody tr th {\n",
       "        vertical-align: top;\n",
       "    }\n",
       "\n",
       "    .dataframe thead th {\n",
       "        text-align: right;\n",
       "    }\n",
       "</style>\n",
       "<table border=\"1\" class=\"dataframe\">\n",
       "  <thead>\n",
       "    <tr style=\"text-align: right;\">\n",
       "      <th></th>\n",
       "      <th>date</th>\n",
       "      <th>date_block_num</th>\n",
       "      <th>shop_id</th>\n",
       "      <th>item_id</th>\n",
       "      <th>item_price</th>\n",
       "      <th>item_cnt_day</th>\n",
       "      <th>key</th>\n",
       "      <th>month</th>\n",
       "      <th>year</th>\n",
       "    </tr>\n",
       "  </thead>\n",
       "  <tbody>\n",
       "    <tr>\n",
       "      <th>0</th>\n",
       "      <td>02.01.2013</td>\n",
       "      <td>0</td>\n",
       "      <td>59</td>\n",
       "      <td>22154</td>\n",
       "      <td>999.00</td>\n",
       "      <td>1.0</td>\n",
       "      <td>5922154</td>\n",
       "      <td>1</td>\n",
       "      <td>2013</td>\n",
       "    </tr>\n",
       "    <tr>\n",
       "      <th>1</th>\n",
       "      <td>03.01.2013</td>\n",
       "      <td>0</td>\n",
       "      <td>25</td>\n",
       "      <td>2552</td>\n",
       "      <td>899.00</td>\n",
       "      <td>1.0</td>\n",
       "      <td>252552</td>\n",
       "      <td>1</td>\n",
       "      <td>2013</td>\n",
       "    </tr>\n",
       "    <tr>\n",
       "      <th>2</th>\n",
       "      <td>05.01.2013</td>\n",
       "      <td>0</td>\n",
       "      <td>25</td>\n",
       "      <td>2552</td>\n",
       "      <td>899.00</td>\n",
       "      <td>-1.0</td>\n",
       "      <td>252552</td>\n",
       "      <td>1</td>\n",
       "      <td>2013</td>\n",
       "    </tr>\n",
       "    <tr>\n",
       "      <th>3</th>\n",
       "      <td>06.01.2013</td>\n",
       "      <td>0</td>\n",
       "      <td>25</td>\n",
       "      <td>2554</td>\n",
       "      <td>1709.05</td>\n",
       "      <td>1.0</td>\n",
       "      <td>252554</td>\n",
       "      <td>1</td>\n",
       "      <td>2013</td>\n",
       "    </tr>\n",
       "    <tr>\n",
       "      <th>4</th>\n",
       "      <td>15.01.2013</td>\n",
       "      <td>0</td>\n",
       "      <td>25</td>\n",
       "      <td>2555</td>\n",
       "      <td>1099.00</td>\n",
       "      <td>1.0</td>\n",
       "      <td>252555</td>\n",
       "      <td>1</td>\n",
       "      <td>2013</td>\n",
       "    </tr>\n",
       "  </tbody>\n",
       "</table>\n",
       "</div>"
      ],
      "text/plain": [
       "         date  date_block_num  shop_id  item_id  item_price  item_cnt_day  \\\n",
       "0  02.01.2013               0       59    22154      999.00           1.0   \n",
       "1  03.01.2013               0       25     2552      899.00           1.0   \n",
       "2  05.01.2013               0       25     2552      899.00          -1.0   \n",
       "3  06.01.2013               0       25     2554     1709.05           1.0   \n",
       "4  15.01.2013               0       25     2555     1099.00           1.0   \n",
       "\n",
       "       key  month  year  \n",
       "0  5922154      1  2013  \n",
       "1   252552      1  2013  \n",
       "2   252552      1  2013  \n",
       "3   252554      1  2013  \n",
       "4   252555      1  2013  "
      ]
     },
     "execution_count": 40,
     "metadata": {},
     "output_type": "execute_result"
    }
   ],
   "source": [
    "train_data.head()"
   ]
  },
  {
   "cell_type": "code",
   "execution_count": 41,
   "metadata": {
    "collapsed": false
   },
   "outputs": [
    {
     "data": {
      "text/plain": [
       "date               object\n",
       "date_block_num      int64\n",
       "shop_id             int64\n",
       "item_id             int64\n",
       "item_price        float64\n",
       "item_cnt_day      float64\n",
       "key                object\n",
       "month               int64\n",
       "year                int64\n",
       "dtype: object"
      ]
     },
     "execution_count": 41,
     "metadata": {},
     "output_type": "execute_result"
    }
   ],
   "source": [
    "train_data.dtypes"
   ]
  },
  {
   "cell_type": "code",
   "execution_count": 42,
   "metadata": {
    "collapsed": false
   },
   "outputs": [
    {
     "name": "stdout",
     "output_type": "stream",
     "text": [
      "0 item_price values over 5999.0 removed\n",
      "0 item_cnt_day values over 5.0 removed\n",
      "new training set has 2935849 records\n",
      "old training set had 2935849 records\n"
     ]
    }
   ],
   "source": [
    "shape0 = train_data.shape[0] # train size before dropping values\n",
    "for col in ['item_price','item_cnt_day']:\n",
    "    max_val = train_data[col].quantile(.99) # get 99th percentile value\n",
    "    train_data.loc[train_data[col]<max_val,col]=max_val # replace outliers\n",
    "    print('{0} {1} values over {2} removed'.format((shape0-train_data.shape[0]),col,max_val))\n",
    "\n",
    "print('new training set has {} records'.format(train_data.shape[0]))\n",
    "print('old training set had {} records'.format(shape0))"
   ]
  },
  {
   "cell_type": "code",
   "execution_count": 50,
   "metadata": {
    "collapsed": false
   },
   "outputs": [],
   "source": [
    "avg_data=train_data[train_data.month==11].groupby(['key'],as_index=False)['item_cnt_day'].mean().round(0)"
   ]
  },
  {
   "cell_type": "code",
   "execution_count": 51,
   "metadata": {
    "collapsed": false
   },
   "outputs": [
    {
     "data": {
      "text/html": [
       "<div>\n",
       "<style scoped>\n",
       "    .dataframe tbody tr th:only-of-type {\n",
       "        vertical-align: middle;\n",
       "    }\n",
       "\n",
       "    .dataframe tbody tr th {\n",
       "        vertical-align: top;\n",
       "    }\n",
       "\n",
       "    .dataframe thead th {\n",
       "        text-align: right;\n",
       "    }\n",
       "</style>\n",
       "<table border=\"1\" class=\"dataframe\">\n",
       "  <thead>\n",
       "    <tr style=\"text-align: right;\">\n",
       "      <th></th>\n",
       "      <th>key</th>\n",
       "      <th>item_cnt_day</th>\n",
       "    </tr>\n",
       "  </thead>\n",
       "  <tbody>\n",
       "    <tr>\n",
       "      <th>0</th>\n",
       "      <td>101002</td>\n",
       "      <td>5.0</td>\n",
       "    </tr>\n",
       "    <tr>\n",
       "      <th>1</th>\n",
       "      <td>1010051</td>\n",
       "      <td>5.0</td>\n",
       "    </tr>\n",
       "    <tr>\n",
       "      <th>2</th>\n",
       "      <td>1010078</td>\n",
       "      <td>5.0</td>\n",
       "    </tr>\n",
       "    <tr>\n",
       "      <th>3</th>\n",
       "      <td>1010099</td>\n",
       "      <td>5.0</td>\n",
       "    </tr>\n",
       "    <tr>\n",
       "      <th>4</th>\n",
       "      <td>1010109</td>\n",
       "      <td>5.0</td>\n",
       "    </tr>\n",
       "  </tbody>\n",
       "</table>\n",
       "</div>"
      ],
      "text/plain": [
       "       key  item_cnt_day\n",
       "0   101002           5.0\n",
       "1  1010051           5.0\n",
       "2  1010078           5.0\n",
       "3  1010099           5.0\n",
       "4  1010109           5.0"
      ]
     },
     "execution_count": 51,
     "metadata": {},
     "output_type": "execute_result"
    }
   ],
   "source": [
    "avg_data.head()"
   ]
  },
  {
   "cell_type": "code",
   "execution_count": 53,
   "metadata": {
    "collapsed": false
   },
   "outputs": [
    {
     "data": {
      "text/html": [
       "<div>\n",
       "<style scoped>\n",
       "    .dataframe tbody tr th:only-of-type {\n",
       "        vertical-align: middle;\n",
       "    }\n",
       "\n",
       "    .dataframe tbody tr th {\n",
       "        vertical-align: top;\n",
       "    }\n",
       "\n",
       "    .dataframe thead th {\n",
       "        text-align: right;\n",
       "    }\n",
       "</style>\n",
       "<table border=\"1\" class=\"dataframe\">\n",
       "  <thead>\n",
       "    <tr style=\"text-align: right;\">\n",
       "      <th></th>\n",
       "      <th>key</th>\n",
       "      <th>item_cnt_day</th>\n",
       "    </tr>\n",
       "  </thead>\n",
       "  <tbody>\n",
       "    <tr>\n",
       "      <th>181</th>\n",
       "      <td>101511</td>\n",
       "      <td>7.0</td>\n",
       "    </tr>\n",
       "    <tr>\n",
       "      <th>208</th>\n",
       "      <td>101555</td>\n",
       "      <td>6.0</td>\n",
       "    </tr>\n",
       "    <tr>\n",
       "      <th>386</th>\n",
       "      <td>1020949</td>\n",
       "      <td>6.0</td>\n",
       "    </tr>\n",
       "    <tr>\n",
       "      <th>436</th>\n",
       "      <td>102278</td>\n",
       "      <td>7.0</td>\n",
       "    </tr>\n",
       "    <tr>\n",
       "      <th>437</th>\n",
       "      <td>102279</td>\n",
       "      <td>7.0</td>\n",
       "    </tr>\n",
       "  </tbody>\n",
       "</table>\n",
       "</div>"
      ],
      "text/plain": [
       "         key  item_cnt_day\n",
       "181   101511           7.0\n",
       "208   101555           6.0\n",
       "386  1020949           6.0\n",
       "436   102278           7.0\n",
       "437   102279           7.0"
      ]
     },
     "execution_count": 53,
     "metadata": {},
     "output_type": "execute_result"
    }
   ],
   "source": [
    "avg_data[avg_data.item_cnt_day!=5].head()"
   ]
  },
  {
   "cell_type": "code",
   "execution_count": 55,
   "metadata": {
    "collapsed": false
   },
   "outputs": [],
   "source": [
    "test_data=pd.read_csv('test.csv')"
   ]
  },
  {
   "cell_type": "code",
   "execution_count": 56,
   "metadata": {
    "collapsed": false
   },
   "outputs": [
    {
     "data": {
      "text/html": [
       "<div>\n",
       "<style scoped>\n",
       "    .dataframe tbody tr th:only-of-type {\n",
       "        vertical-align: middle;\n",
       "    }\n",
       "\n",
       "    .dataframe tbody tr th {\n",
       "        vertical-align: top;\n",
       "    }\n",
       "\n",
       "    .dataframe thead th {\n",
       "        text-align: right;\n",
       "    }\n",
       "</style>\n",
       "<table border=\"1\" class=\"dataframe\">\n",
       "  <thead>\n",
       "    <tr style=\"text-align: right;\">\n",
       "      <th></th>\n",
       "      <th>ID</th>\n",
       "      <th>shop_id</th>\n",
       "      <th>item_id</th>\n",
       "    </tr>\n",
       "  </thead>\n",
       "  <tbody>\n",
       "    <tr>\n",
       "      <th>0</th>\n",
       "      <td>0</td>\n",
       "      <td>5</td>\n",
       "      <td>5037</td>\n",
       "    </tr>\n",
       "    <tr>\n",
       "      <th>1</th>\n",
       "      <td>1</td>\n",
       "      <td>5</td>\n",
       "      <td>5320</td>\n",
       "    </tr>\n",
       "    <tr>\n",
       "      <th>2</th>\n",
       "      <td>2</td>\n",
       "      <td>5</td>\n",
       "      <td>5233</td>\n",
       "    </tr>\n",
       "    <tr>\n",
       "      <th>3</th>\n",
       "      <td>3</td>\n",
       "      <td>5</td>\n",
       "      <td>5232</td>\n",
       "    </tr>\n",
       "    <tr>\n",
       "      <th>4</th>\n",
       "      <td>4</td>\n",
       "      <td>5</td>\n",
       "      <td>5268</td>\n",
       "    </tr>\n",
       "  </tbody>\n",
       "</table>\n",
       "</div>"
      ],
      "text/plain": [
       "   ID  shop_id  item_id\n",
       "0   0        5     5037\n",
       "1   1        5     5320\n",
       "2   2        5     5233\n",
       "3   3        5     5232\n",
       "4   4        5     5268"
      ]
     },
     "execution_count": 56,
     "metadata": {},
     "output_type": "execute_result"
    }
   ],
   "source": [
    "test_data.head()"
   ]
  },
  {
   "cell_type": "code",
   "execution_count": 67,
   "metadata": {
    "collapsed": true
   },
   "outputs": [],
   "source": [
    "test_data['key']=test_data.shop_id.map(str)+test_data.item_id.map(str)"
   ]
  },
  {
   "cell_type": "code",
   "execution_count": 68,
   "metadata": {
    "collapsed": true
   },
   "outputs": [],
   "source": [
    "submission_data=pd.merge(test_data,avg_data,how='left',on='key')"
   ]
  },
  {
   "cell_type": "code",
   "execution_count": 69,
   "metadata": {
    "collapsed": false
   },
   "outputs": [],
   "source": [
    "submission_data=submission_data.fillna(0)"
   ]
  },
  {
   "cell_type": "code",
   "execution_count": 70,
   "metadata": {
    "collapsed": false
   },
   "outputs": [
    {
     "data": {
      "text/plain": [
       "(214200, 5)"
      ]
     },
     "execution_count": 70,
     "metadata": {},
     "output_type": "execute_result"
    }
   ],
   "source": [
    "submission_data.shape"
   ]
  },
  {
   "cell_type": "code",
   "execution_count": 71,
   "metadata": {
    "collapsed": false
   },
   "outputs": [
    {
     "data": {
      "text/plain": [
       "(214200, 4)"
      ]
     },
     "execution_count": 71,
     "metadata": {},
     "output_type": "execute_result"
    }
   ],
   "source": [
    "test_data.shape"
   ]
  },
  {
   "cell_type": "code",
   "execution_count": 72,
   "metadata": {
    "collapsed": true
   },
   "outputs": [],
   "source": [
    "submission_data=submission_data.reset_index().drop(['shop_id', 'item_id','key','index'], axis=1)"
   ]
  },
  {
   "cell_type": "code",
   "execution_count": 73,
   "metadata": {
    "collapsed": false
   },
   "outputs": [
    {
     "data": {
      "text/html": [
       "<div>\n",
       "<style scoped>\n",
       "    .dataframe tbody tr th:only-of-type {\n",
       "        vertical-align: middle;\n",
       "    }\n",
       "\n",
       "    .dataframe tbody tr th {\n",
       "        vertical-align: top;\n",
       "    }\n",
       "\n",
       "    .dataframe thead th {\n",
       "        text-align: right;\n",
       "    }\n",
       "</style>\n",
       "<table border=\"1\" class=\"dataframe\">\n",
       "  <thead>\n",
       "    <tr style=\"text-align: right;\">\n",
       "      <th></th>\n",
       "      <th>ID</th>\n",
       "      <th>item_cnt_day</th>\n",
       "    </tr>\n",
       "  </thead>\n",
       "  <tbody>\n",
       "    <tr>\n",
       "      <th>0</th>\n",
       "      <td>0</td>\n",
       "      <td>5.0</td>\n",
       "    </tr>\n",
       "    <tr>\n",
       "      <th>1</th>\n",
       "      <td>1</td>\n",
       "      <td>0.0</td>\n",
       "    </tr>\n",
       "    <tr>\n",
       "      <th>2</th>\n",
       "      <td>2</td>\n",
       "      <td>0.0</td>\n",
       "    </tr>\n",
       "    <tr>\n",
       "      <th>3</th>\n",
       "      <td>3</td>\n",
       "      <td>0.0</td>\n",
       "    </tr>\n",
       "    <tr>\n",
       "      <th>4</th>\n",
       "      <td>4</td>\n",
       "      <td>0.0</td>\n",
       "    </tr>\n",
       "  </tbody>\n",
       "</table>\n",
       "</div>"
      ],
      "text/plain": [
       "   ID  item_cnt_day\n",
       "0   0           5.0\n",
       "1   1           0.0\n",
       "2   2           0.0\n",
       "3   3           0.0\n",
       "4   4           0.0"
      ]
     },
     "execution_count": 73,
     "metadata": {},
     "output_type": "execute_result"
    }
   ],
   "source": [
    "submission_data"
   ]
  },
  {
   "cell_type": "code",
   "execution_count": 74,
   "metadata": {
    "collapsed": true
   },
   "outputs": [],
   "source": [
    "submission_data.to_csv('submission.csv',index=False)"
   ]
  },
  {
   "cell_type": "code",
   "execution_count": 75,
   "metadata": {
    "collapsed": true
   },
   "outputs": [],
   "source": [
    "sample_submit=pd.read_csv('sample_submission.csv')"
   ]
  },
  {
   "cell_type": "code",
   "execution_count": 76,
   "metadata": {
    "collapsed": false
   },
   "outputs": [
    {
     "data": {
      "text/html": [
       "<div>\n",
       "<style scoped>\n",
       "    .dataframe tbody tr th:only-of-type {\n",
       "        vertical-align: middle;\n",
       "    }\n",
       "\n",
       "    .dataframe tbody tr th {\n",
       "        vertical-align: top;\n",
       "    }\n",
       "\n",
       "    .dataframe thead th {\n",
       "        text-align: right;\n",
       "    }\n",
       "</style>\n",
       "<table border=\"1\" class=\"dataframe\">\n",
       "  <thead>\n",
       "    <tr style=\"text-align: right;\">\n",
       "      <th></th>\n",
       "      <th>ID</th>\n",
       "      <th>item_cnt_month</th>\n",
       "    </tr>\n",
       "  </thead>\n",
       "  <tbody>\n",
       "    <tr>\n",
       "      <th>0</th>\n",
       "      <td>0</td>\n",
       "      <td>0.5</td>\n",
       "    </tr>\n",
       "    <tr>\n",
       "      <th>1</th>\n",
       "      <td>1</td>\n",
       "      <td>0.5</td>\n",
       "    </tr>\n",
       "    <tr>\n",
       "      <th>2</th>\n",
       "      <td>2</td>\n",
       "      <td>0.5</td>\n",
       "    </tr>\n",
       "    <tr>\n",
       "      <th>3</th>\n",
       "      <td>3</td>\n",
       "      <td>0.5</td>\n",
       "    </tr>\n",
       "    <tr>\n",
       "      <th>4</th>\n",
       "      <td>4</td>\n",
       "      <td>0.5</td>\n",
       "    </tr>\n",
       "  </tbody>\n",
       "</table>\n",
       "</div>"
      ],
      "text/plain": [
       "   ID  item_cnt_month\n",
       "0   0             0.5\n",
       "1   1             0.5\n",
       "2   2             0.5\n",
       "3   3             0.5\n",
       "4   4             0.5"
      ]
     },
     "execution_count": 76,
     "metadata": {},
     "output_type": "execute_result"
    }
   ],
   "source": [
    "sample_submit.head()"
   ]
  },
  {
   "cell_type": "code",
   "execution_count": 77,
   "metadata": {
    "collapsed": false
   },
   "outputs": [
    {
     "data": {
      "text/plain": [
       "Index(['ID', 'item_cnt_month'], dtype='object')"
      ]
     },
     "execution_count": 77,
     "metadata": {},
     "output_type": "execute_result"
    }
   ],
   "source": [
    "sample_submit.columns"
   ]
  },
  {
   "cell_type": "code",
   "execution_count": 79,
   "metadata": {
    "collapsed": false
   },
   "outputs": [],
   "source": [
    "submission_data.columns=sample_submit.columns"
   ]
  },
  {
   "cell_type": "code",
   "execution_count": 80,
   "metadata": {
    "collapsed": true
   },
   "outputs": [],
   "source": [
    "submission_data.to_csv('submission_01.csv',index=False)"
   ]
  },
  {
   "cell_type": "code",
   "execution_count": 85,
   "metadata": {
    "collapsed": false
   },
   "outputs": [
    {
     "data": {
      "text/html": [
       "<div>\n",
       "<style scoped>\n",
       "    .dataframe tbody tr th:only-of-type {\n",
       "        vertical-align: middle;\n",
       "    }\n",
       "\n",
       "    .dataframe tbody tr th {\n",
       "        vertical-align: top;\n",
       "    }\n",
       "\n",
       "    .dataframe thead th {\n",
       "        text-align: right;\n",
       "    }\n",
       "</style>\n",
       "<table border=\"1\" class=\"dataframe\">\n",
       "  <thead>\n",
       "    <tr style=\"text-align: right;\">\n",
       "      <th></th>\n",
       "      <th>date</th>\n",
       "      <th>date_block_num</th>\n",
       "      <th>shop_id</th>\n",
       "      <th>item_id</th>\n",
       "      <th>item_price</th>\n",
       "      <th>item_cnt_day</th>\n",
       "      <th>key</th>\n",
       "      <th>month</th>\n",
       "      <th>year</th>\n",
       "    </tr>\n",
       "  </thead>\n",
       "  <tbody>\n",
       "    <tr>\n",
       "      <th>0</th>\n",
       "      <td>02.01.2013</td>\n",
       "      <td>0</td>\n",
       "      <td>59</td>\n",
       "      <td>22154</td>\n",
       "      <td>5999.0</td>\n",
       "      <td>5.0</td>\n",
       "      <td>5922154</td>\n",
       "      <td>1</td>\n",
       "      <td>2013</td>\n",
       "    </tr>\n",
       "    <tr>\n",
       "      <th>1</th>\n",
       "      <td>03.01.2013</td>\n",
       "      <td>0</td>\n",
       "      <td>25</td>\n",
       "      <td>2552</td>\n",
       "      <td>5999.0</td>\n",
       "      <td>5.0</td>\n",
       "      <td>252552</td>\n",
       "      <td>1</td>\n",
       "      <td>2013</td>\n",
       "    </tr>\n",
       "    <tr>\n",
       "      <th>2</th>\n",
       "      <td>05.01.2013</td>\n",
       "      <td>0</td>\n",
       "      <td>25</td>\n",
       "      <td>2552</td>\n",
       "      <td>5999.0</td>\n",
       "      <td>5.0</td>\n",
       "      <td>252552</td>\n",
       "      <td>1</td>\n",
       "      <td>2013</td>\n",
       "    </tr>\n",
       "    <tr>\n",
       "      <th>3</th>\n",
       "      <td>06.01.2013</td>\n",
       "      <td>0</td>\n",
       "      <td>25</td>\n",
       "      <td>2554</td>\n",
       "      <td>5999.0</td>\n",
       "      <td>5.0</td>\n",
       "      <td>252554</td>\n",
       "      <td>1</td>\n",
       "      <td>2013</td>\n",
       "    </tr>\n",
       "    <tr>\n",
       "      <th>4</th>\n",
       "      <td>15.01.2013</td>\n",
       "      <td>0</td>\n",
       "      <td>25</td>\n",
       "      <td>2555</td>\n",
       "      <td>5999.0</td>\n",
       "      <td>5.0</td>\n",
       "      <td>252555</td>\n",
       "      <td>1</td>\n",
       "      <td>2013</td>\n",
       "    </tr>\n",
       "  </tbody>\n",
       "</table>\n",
       "</div>"
      ],
      "text/plain": [
       "         date  date_block_num  shop_id  item_id  item_price  item_cnt_day  \\\n",
       "0  02.01.2013               0       59    22154      5999.0           5.0   \n",
       "1  03.01.2013               0       25     2552      5999.0           5.0   \n",
       "2  05.01.2013               0       25     2552      5999.0           5.0   \n",
       "3  06.01.2013               0       25     2554      5999.0           5.0   \n",
       "4  15.01.2013               0       25     2555      5999.0           5.0   \n",
       "\n",
       "       key  month  year  \n",
       "0  5922154      1  2013  \n",
       "1   252552      1  2013  \n",
       "2   252552      1  2013  \n",
       "3   252554      1  2013  \n",
       "4   252555      1  2013  "
      ]
     },
     "execution_count": 85,
     "metadata": {},
     "output_type": "execute_result"
    }
   ],
   "source": [
    "train_data.head()"
   ]
  },
  {
   "cell_type": "code",
   "execution_count": 139,
   "metadata": {
    "collapsed": true
   },
   "outputs": [],
   "source": [
    "train_data_agg=train_data.groupby(['date_block_num','shop_id','item_id','item_price','month','year'],as_index=False)['item_cnt_day'].sum()"
   ]
  },
  {
   "cell_type": "code",
   "execution_count": 140,
   "metadata": {
    "collapsed": false
   },
   "outputs": [
    {
     "data": {
      "text/html": [
       "<div>\n",
       "<style scoped>\n",
       "    .dataframe tbody tr th:only-of-type {\n",
       "        vertical-align: middle;\n",
       "    }\n",
       "\n",
       "    .dataframe tbody tr th {\n",
       "        vertical-align: top;\n",
       "    }\n",
       "\n",
       "    .dataframe thead th {\n",
       "        text-align: right;\n",
       "    }\n",
       "</style>\n",
       "<table border=\"1\" class=\"dataframe\">\n",
       "  <thead>\n",
       "    <tr style=\"text-align: right;\">\n",
       "      <th></th>\n",
       "      <th>date_block_num</th>\n",
       "      <th>shop_id</th>\n",
       "      <th>item_id</th>\n",
       "      <th>item_price</th>\n",
       "      <th>month</th>\n",
       "      <th>year</th>\n",
       "      <th>item_cnt_day</th>\n",
       "    </tr>\n",
       "  </thead>\n",
       "  <tbody>\n",
       "    <tr>\n",
       "      <th>0</th>\n",
       "      <td>0</td>\n",
       "      <td>0</td>\n",
       "      <td>32</td>\n",
       "      <td>5999.0</td>\n",
       "      <td>1</td>\n",
       "      <td>2013</td>\n",
       "      <td>20.0</td>\n",
       "    </tr>\n",
       "    <tr>\n",
       "      <th>1</th>\n",
       "      <td>0</td>\n",
       "      <td>0</td>\n",
       "      <td>33</td>\n",
       "      <td>5999.0</td>\n",
       "      <td>1</td>\n",
       "      <td>2013</td>\n",
       "      <td>15.0</td>\n",
       "    </tr>\n",
       "    <tr>\n",
       "      <th>2</th>\n",
       "      <td>0</td>\n",
       "      <td>0</td>\n",
       "      <td>35</td>\n",
       "      <td>5999.0</td>\n",
       "      <td>1</td>\n",
       "      <td>2013</td>\n",
       "      <td>5.0</td>\n",
       "    </tr>\n",
       "    <tr>\n",
       "      <th>3</th>\n",
       "      <td>0</td>\n",
       "      <td>0</td>\n",
       "      <td>43</td>\n",
       "      <td>5999.0</td>\n",
       "      <td>1</td>\n",
       "      <td>2013</td>\n",
       "      <td>5.0</td>\n",
       "    </tr>\n",
       "    <tr>\n",
       "      <th>4</th>\n",
       "      <td>0</td>\n",
       "      <td>0</td>\n",
       "      <td>51</td>\n",
       "      <td>5999.0</td>\n",
       "      <td>1</td>\n",
       "      <td>2013</td>\n",
       "      <td>10.0</td>\n",
       "    </tr>\n",
       "  </tbody>\n",
       "</table>\n",
       "</div>"
      ],
      "text/plain": [
       "   date_block_num  shop_id  item_id  item_price  month  year  item_cnt_day\n",
       "0               0        0       32      5999.0      1  2013          20.0\n",
       "1               0        0       33      5999.0      1  2013          15.0\n",
       "2               0        0       35      5999.0      1  2013           5.0\n",
       "3               0        0       43      5999.0      1  2013           5.0\n",
       "4               0        0       51      5999.0      1  2013          10.0"
      ]
     },
     "execution_count": 140,
     "metadata": {},
     "output_type": "execute_result"
    }
   ],
   "source": [
    "train_data_agg.head()"
   ]
  },
  {
   "cell_type": "code",
   "execution_count": 90,
   "metadata": {
    "collapsed": false
   },
   "outputs": [],
   "source": [
    "submission_2=train_data_agg.groupby(['shop_id','item_id','month'],as_index=False)['item_cnt_day'].mean()"
   ]
  },
  {
   "cell_type": "code",
   "execution_count": 91,
   "metadata": {
    "collapsed": false
   },
   "outputs": [
    {
     "data": {
      "text/html": [
       "<div>\n",
       "<style scoped>\n",
       "    .dataframe tbody tr th:only-of-type {\n",
       "        vertical-align: middle;\n",
       "    }\n",
       "\n",
       "    .dataframe tbody tr th {\n",
       "        vertical-align: top;\n",
       "    }\n",
       "\n",
       "    .dataframe thead th {\n",
       "        text-align: right;\n",
       "    }\n",
       "</style>\n",
       "<table border=\"1\" class=\"dataframe\">\n",
       "  <thead>\n",
       "    <tr style=\"text-align: right;\">\n",
       "      <th></th>\n",
       "      <th>shop_id</th>\n",
       "      <th>item_id</th>\n",
       "      <th>month</th>\n",
       "      <th>item_cnt_day</th>\n",
       "    </tr>\n",
       "  </thead>\n",
       "  <tbody>\n",
       "    <tr>\n",
       "      <th>0</th>\n",
       "      <td>0</td>\n",
       "      <td>30</td>\n",
       "      <td>2</td>\n",
       "      <td>49.0</td>\n",
       "    </tr>\n",
       "    <tr>\n",
       "      <th>1</th>\n",
       "      <td>0</td>\n",
       "      <td>31</td>\n",
       "      <td>2</td>\n",
       "      <td>35.0</td>\n",
       "    </tr>\n",
       "    <tr>\n",
       "      <th>2</th>\n",
       "      <td>0</td>\n",
       "      <td>32</td>\n",
       "      <td>1</td>\n",
       "      <td>20.0</td>\n",
       "    </tr>\n",
       "    <tr>\n",
       "      <th>3</th>\n",
       "      <td>0</td>\n",
       "      <td>32</td>\n",
       "      <td>2</td>\n",
       "      <td>35.0</td>\n",
       "    </tr>\n",
       "    <tr>\n",
       "      <th>4</th>\n",
       "      <td>0</td>\n",
       "      <td>33</td>\n",
       "      <td>1</td>\n",
       "      <td>15.0</td>\n",
       "    </tr>\n",
       "  </tbody>\n",
       "</table>\n",
       "</div>"
      ],
      "text/plain": [
       "   shop_id  item_id  month  item_cnt_day\n",
       "0        0       30      2          49.0\n",
       "1        0       31      2          35.0\n",
       "2        0       32      1          20.0\n",
       "3        0       32      2          35.0\n",
       "4        0       33      1          15.0"
      ]
     },
     "execution_count": 91,
     "metadata": {},
     "output_type": "execute_result"
    }
   ],
   "source": [
    "submission_2.head()"
   ]
  },
  {
   "cell_type": "code",
   "execution_count": 92,
   "metadata": {
    "collapsed": false
   },
   "outputs": [
    {
     "data": {
      "text/html": [
       "<div>\n",
       "<style scoped>\n",
       "    .dataframe tbody tr th:only-of-type {\n",
       "        vertical-align: middle;\n",
       "    }\n",
       "\n",
       "    .dataframe tbody tr th {\n",
       "        vertical-align: top;\n",
       "    }\n",
       "\n",
       "    .dataframe thead th {\n",
       "        text-align: right;\n",
       "    }\n",
       "</style>\n",
       "<table border=\"1\" class=\"dataframe\">\n",
       "  <thead>\n",
       "    <tr style=\"text-align: right;\">\n",
       "      <th></th>\n",
       "      <th>ID</th>\n",
       "      <th>shop_id</th>\n",
       "      <th>item_id</th>\n",
       "      <th>key</th>\n",
       "    </tr>\n",
       "  </thead>\n",
       "  <tbody>\n",
       "    <tr>\n",
       "      <th>0</th>\n",
       "      <td>0</td>\n",
       "      <td>5</td>\n",
       "      <td>5037</td>\n",
       "      <td>55037</td>\n",
       "    </tr>\n",
       "    <tr>\n",
       "      <th>1</th>\n",
       "      <td>1</td>\n",
       "      <td>5</td>\n",
       "      <td>5320</td>\n",
       "      <td>55320</td>\n",
       "    </tr>\n",
       "    <tr>\n",
       "      <th>2</th>\n",
       "      <td>2</td>\n",
       "      <td>5</td>\n",
       "      <td>5233</td>\n",
       "      <td>55233</td>\n",
       "    </tr>\n",
       "    <tr>\n",
       "      <th>3</th>\n",
       "      <td>3</td>\n",
       "      <td>5</td>\n",
       "      <td>5232</td>\n",
       "      <td>55232</td>\n",
       "    </tr>\n",
       "    <tr>\n",
       "      <th>4</th>\n",
       "      <td>4</td>\n",
       "      <td>5</td>\n",
       "      <td>5268</td>\n",
       "      <td>55268</td>\n",
       "    </tr>\n",
       "  </tbody>\n",
       "</table>\n",
       "</div>"
      ],
      "text/plain": [
       "   ID  shop_id  item_id    key\n",
       "0   0        5     5037  55037\n",
       "1   1        5     5320  55320\n",
       "2   2        5     5233  55233\n",
       "3   3        5     5232  55232\n",
       "4   4        5     5268  55268"
      ]
     },
     "execution_count": 92,
     "metadata": {},
     "output_type": "execute_result"
    }
   ],
   "source": [
    "test_data.head()"
   ]
  },
  {
   "cell_type": "code",
   "execution_count": 95,
   "metadata": {
    "collapsed": false
   },
   "outputs": [],
   "source": [
    "submission_2=pd.merge(test_data,submission_2[submission_2.month==11],how='left',on=['shop_id','item_id'])"
   ]
  },
  {
   "cell_type": "code",
   "execution_count": 96,
   "metadata": {
    "collapsed": false
   },
   "outputs": [
    {
     "data": {
      "text/html": [
       "<div>\n",
       "<style scoped>\n",
       "    .dataframe tbody tr th:only-of-type {\n",
       "        vertical-align: middle;\n",
       "    }\n",
       "\n",
       "    .dataframe tbody tr th {\n",
       "        vertical-align: top;\n",
       "    }\n",
       "\n",
       "    .dataframe thead th {\n",
       "        text-align: right;\n",
       "    }\n",
       "</style>\n",
       "<table border=\"1\" class=\"dataframe\">\n",
       "  <thead>\n",
       "    <tr style=\"text-align: right;\">\n",
       "      <th></th>\n",
       "      <th>ID</th>\n",
       "      <th>shop_id</th>\n",
       "      <th>item_id</th>\n",
       "      <th>key</th>\n",
       "      <th>month</th>\n",
       "      <th>item_cnt_day</th>\n",
       "    </tr>\n",
       "  </thead>\n",
       "  <tbody>\n",
       "    <tr>\n",
       "      <th>0</th>\n",
       "      <td>0</td>\n",
       "      <td>5</td>\n",
       "      <td>5037</td>\n",
       "      <td>55037</td>\n",
       "      <td>11.0</td>\n",
       "      <td>5.0</td>\n",
       "    </tr>\n",
       "    <tr>\n",
       "      <th>1</th>\n",
       "      <td>1</td>\n",
       "      <td>5</td>\n",
       "      <td>5320</td>\n",
       "      <td>55320</td>\n",
       "      <td>NaN</td>\n",
       "      <td>NaN</td>\n",
       "    </tr>\n",
       "    <tr>\n",
       "      <th>2</th>\n",
       "      <td>2</td>\n",
       "      <td>5</td>\n",
       "      <td>5233</td>\n",
       "      <td>55233</td>\n",
       "      <td>NaN</td>\n",
       "      <td>NaN</td>\n",
       "    </tr>\n",
       "    <tr>\n",
       "      <th>3</th>\n",
       "      <td>3</td>\n",
       "      <td>5</td>\n",
       "      <td>5232</td>\n",
       "      <td>55232</td>\n",
       "      <td>NaN</td>\n",
       "      <td>NaN</td>\n",
       "    </tr>\n",
       "    <tr>\n",
       "      <th>4</th>\n",
       "      <td>4</td>\n",
       "      <td>5</td>\n",
       "      <td>5268</td>\n",
       "      <td>55268</td>\n",
       "      <td>NaN</td>\n",
       "      <td>NaN</td>\n",
       "    </tr>\n",
       "  </tbody>\n",
       "</table>\n",
       "</div>"
      ],
      "text/plain": [
       "   ID  shop_id  item_id    key  month  item_cnt_day\n",
       "0   0        5     5037  55037   11.0           5.0\n",
       "1   1        5     5320  55320    NaN           NaN\n",
       "2   2        5     5233  55233    NaN           NaN\n",
       "3   3        5     5232  55232    NaN           NaN\n",
       "4   4        5     5268  55268    NaN           NaN"
      ]
     },
     "execution_count": 96,
     "metadata": {},
     "output_type": "execute_result"
    }
   ],
   "source": [
    "submission_2.head()"
   ]
  },
  {
   "cell_type": "code",
   "execution_count": 98,
   "metadata": {
    "collapsed": false
   },
   "outputs": [],
   "source": [
    "submission_2=submission_2.fillna(0)"
   ]
  },
  {
   "cell_type": "code",
   "execution_count": 99,
   "metadata": {
    "collapsed": true
   },
   "outputs": [],
   "source": [
    "submission_2=submission_2.reset_index().drop(['shop_id', 'item_id','key','index','month'], axis=1)\n",
    "submission_2.columns=sample_submit.columns\n",
    "submission_2.to_csv('submission_02.csv',index=False)"
   ]
  },
  {
   "cell_type": "code",
   "execution_count": 141,
   "metadata": {
    "collapsed": false
   },
   "outputs": [
    {
     "data": {
      "text/html": [
       "<div>\n",
       "<style scoped>\n",
       "    .dataframe tbody tr th:only-of-type {\n",
       "        vertical-align: middle;\n",
       "    }\n",
       "\n",
       "    .dataframe tbody tr th {\n",
       "        vertical-align: top;\n",
       "    }\n",
       "\n",
       "    .dataframe thead th {\n",
       "        text-align: right;\n",
       "    }\n",
       "</style>\n",
       "<table border=\"1\" class=\"dataframe\">\n",
       "  <thead>\n",
       "    <tr style=\"text-align: right;\">\n",
       "      <th></th>\n",
       "      <th>date_block_num</th>\n",
       "      <th>shop_id</th>\n",
       "      <th>item_id</th>\n",
       "      <th>item_price</th>\n",
       "      <th>month</th>\n",
       "      <th>year</th>\n",
       "      <th>item_cnt_day</th>\n",
       "    </tr>\n",
       "  </thead>\n",
       "  <tbody>\n",
       "    <tr>\n",
       "      <th>0</th>\n",
       "      <td>0</td>\n",
       "      <td>0</td>\n",
       "      <td>32</td>\n",
       "      <td>5999.0</td>\n",
       "      <td>1</td>\n",
       "      <td>2013</td>\n",
       "      <td>20.0</td>\n",
       "    </tr>\n",
       "    <tr>\n",
       "      <th>1</th>\n",
       "      <td>0</td>\n",
       "      <td>0</td>\n",
       "      <td>33</td>\n",
       "      <td>5999.0</td>\n",
       "      <td>1</td>\n",
       "      <td>2013</td>\n",
       "      <td>15.0</td>\n",
       "    </tr>\n",
       "    <tr>\n",
       "      <th>2</th>\n",
       "      <td>0</td>\n",
       "      <td>0</td>\n",
       "      <td>35</td>\n",
       "      <td>5999.0</td>\n",
       "      <td>1</td>\n",
       "      <td>2013</td>\n",
       "      <td>5.0</td>\n",
       "    </tr>\n",
       "    <tr>\n",
       "      <th>3</th>\n",
       "      <td>0</td>\n",
       "      <td>0</td>\n",
       "      <td>43</td>\n",
       "      <td>5999.0</td>\n",
       "      <td>1</td>\n",
       "      <td>2013</td>\n",
       "      <td>5.0</td>\n",
       "    </tr>\n",
       "    <tr>\n",
       "      <th>4</th>\n",
       "      <td>0</td>\n",
       "      <td>0</td>\n",
       "      <td>51</td>\n",
       "      <td>5999.0</td>\n",
       "      <td>1</td>\n",
       "      <td>2013</td>\n",
       "      <td>10.0</td>\n",
       "    </tr>\n",
       "  </tbody>\n",
       "</table>\n",
       "</div>"
      ],
      "text/plain": [
       "   date_block_num  shop_id  item_id  item_price  month  year  item_cnt_day\n",
       "0               0        0       32      5999.0      1  2013          20.0\n",
       "1               0        0       33      5999.0      1  2013          15.0\n",
       "2               0        0       35      5999.0      1  2013           5.0\n",
       "3               0        0       43      5999.0      1  2013           5.0\n",
       "4               0        0       51      5999.0      1  2013          10.0"
      ]
     },
     "execution_count": 141,
     "metadata": {},
     "output_type": "execute_result"
    }
   ],
   "source": [
    "train_data_agg.head()"
   ]
  },
  {
   "cell_type": "code",
   "execution_count": 142,
   "metadata": {
    "collapsed": false
   },
   "outputs": [
    {
     "name": "stdout",
     "output_type": "stream",
     "text": [
      "(1613268, 7)\n",
      "(2935849, 9)\n"
     ]
    }
   ],
   "source": [
    "print(train_data_agg.shape)\n",
    "print(train_data.shape)"
   ]
  },
  {
   "cell_type": "code",
   "execution_count": 143,
   "metadata": {
    "collapsed": false
   },
   "outputs": [
    {
     "data": {
      "text/plain": [
       "34"
      ]
     },
     "execution_count": 143,
     "metadata": {},
     "output_type": "execute_result"
    }
   ],
   "source": [
    "train_data_agg.date_block_num.nunique()"
   ]
  },
  {
   "cell_type": "markdown",
   "metadata": {},
   "source": [
    "### XGBoost Iteration 1"
   ]
  },
  {
   "cell_type": "code",
   "execution_count": 108,
   "metadata": {
    "collapsed": true
   },
   "outputs": [],
   "source": [
    "train_data_1=train_data_agg[train_data_agg.date_block_num<33]"
   ]
  },
  {
   "cell_type": "code",
   "execution_count": 109,
   "metadata": {
    "collapsed": true
   },
   "outputs": [],
   "source": [
    "validation_data=train_data_agg[train_data_agg.date_block_num==33]"
   ]
  },
  {
   "cell_type": "code",
   "execution_count": 115,
   "metadata": {
    "collapsed": false
   },
   "outputs": [
    {
     "name": "stdout",
     "output_type": "stream",
     "text": [
      "Index(['date_block_num', 'shop_id', 'item_id', 'item_price', 'month', 'year',\n",
      "       'item_cnt_day'],\n",
      "      dtype='object')\n",
      "Index(['date_block_num', 'shop_id', 'item_id', 'item_price', 'month', 'year',\n",
      "       'item_cnt_day'],\n",
      "      dtype='object')\n"
     ]
    }
   ],
   "source": [
    "print(train_data_1.columns)\n",
    "print(validation_data.columns)"
   ]
  },
  {
   "cell_type": "code",
   "execution_count": 116,
   "metadata": {
    "collapsed": false
   },
   "outputs": [],
   "source": [
    "X_train=train_data_1[['date_block_num', 'shop_id', 'item_id', 'item_price','month', 'year']]\n",
    "Y_train=train_data_1['item_cnt_day']\n",
    "X_valid=validation_data[['date_block_num', 'shop_id', 'item_id', 'item_price','month', 'year']]\n",
    "Y_valid=validation_data['item_cnt_day']"
   ]
  },
  {
   "cell_type": "code",
   "execution_count": 121,
   "metadata": {
    "collapsed": false
   },
   "outputs": [
    {
     "name": "stdout",
     "output_type": "stream",
     "text": [
      "[0]\tvalidation_0-rmse:14.5258\tvalidation_1-rmse:18.0632\n",
      "Multiple eval metrics have been passed: 'validation_1-rmse' will be used for early stopping.\n",
      "\n",
      "Will train until validation_1-rmse hasn't improved in 10 rounds.\n",
      "[1]\tvalidation_0-rmse:13.9325\tvalidation_1-rmse:17.5966\n",
      "[2]\tvalidation_0-rmse:13.5724\tvalidation_1-rmse:17.3353\n",
      "[3]\tvalidation_0-rmse:13.1185\tvalidation_1-rmse:17.0079\n",
      "[4]\tvalidation_0-rmse:12.7269\tvalidation_1-rmse:16.746\n",
      "[5]\tvalidation_0-rmse:12.5141\tvalidation_1-rmse:16.5904\n",
      "[6]\tvalidation_0-rmse:12.227\tvalidation_1-rmse:16.4032\n",
      "[7]\tvalidation_0-rmse:11.9881\tvalidation_1-rmse:16.2252\n",
      "[8]\tvalidation_0-rmse:11.785\tvalidation_1-rmse:16.1069\n",
      "[9]\tvalidation_0-rmse:11.6809\tvalidation_1-rmse:16.0372\n",
      "[10]\tvalidation_0-rmse:11.596\tvalidation_1-rmse:15.9787\n",
      "[11]\tvalidation_0-rmse:11.4612\tvalidation_1-rmse:15.895\n",
      "[12]\tvalidation_0-rmse:11.4038\tvalidation_1-rmse:15.8621\n",
      "[13]\tvalidation_0-rmse:11.3016\tvalidation_1-rmse:15.81\n",
      "[14]\tvalidation_0-rmse:11.2623\tvalidation_1-rmse:15.7883\n",
      "[15]\tvalidation_0-rmse:11.1788\tvalidation_1-rmse:15.7475\n",
      "[16]\tvalidation_0-rmse:11.101\tvalidation_1-rmse:15.7135\n",
      "[17]\tvalidation_0-rmse:11.0786\tvalidation_1-rmse:15.7026\n",
      "[18]\tvalidation_0-rmse:11.0597\tvalidation_1-rmse:15.6934\n",
      "[19]\tvalidation_0-rmse:11.001\tvalidation_1-rmse:15.6701\n",
      "[20]\tvalidation_0-rmse:10.9878\tvalidation_1-rmse:15.6664\n",
      "[21]\tvalidation_0-rmse:10.9342\tvalidation_1-rmse:15.6468\n",
      "[22]\tvalidation_0-rmse:10.8871\tvalidation_1-rmse:15.6369\n",
      "[23]\tvalidation_0-rmse:10.8364\tvalidation_1-rmse:15.6215\n",
      "[24]\tvalidation_0-rmse:10.8027\tvalidation_1-rmse:15.6178\n",
      "[25]\tvalidation_0-rmse:10.7694\tvalidation_1-rmse:15.6196\n",
      "[26]\tvalidation_0-rmse:10.7264\tvalidation_1-rmse:15.6143\n",
      "[27]\tvalidation_0-rmse:10.6996\tvalidation_1-rmse:15.583\n",
      "[28]\tvalidation_0-rmse:10.6947\tvalidation_1-rmse:15.5795\n",
      "[29]\tvalidation_0-rmse:10.6639\tvalidation_1-rmse:15.5702\n",
      "[30]\tvalidation_0-rmse:10.6597\tvalidation_1-rmse:15.5697\n",
      "[31]\tvalidation_0-rmse:10.6565\tvalidation_1-rmse:15.569\n",
      "[32]\tvalidation_0-rmse:10.6274\tvalidation_1-rmse:15.5662\n",
      "[33]\tvalidation_0-rmse:10.6246\tvalidation_1-rmse:15.5649\n",
      "[34]\tvalidation_0-rmse:10.5962\tvalidation_1-rmse:15.5668\n",
      "[35]\tvalidation_0-rmse:10.5713\tvalidation_1-rmse:15.5647\n",
      "[36]\tvalidation_0-rmse:10.5473\tvalidation_1-rmse:15.5464\n",
      "[37]\tvalidation_0-rmse:10.5262\tvalidation_1-rmse:15.5484\n",
      "[38]\tvalidation_0-rmse:10.509\tvalidation_1-rmse:15.548\n",
      "[39]\tvalidation_0-rmse:10.507\tvalidation_1-rmse:15.5483\n",
      "[40]\tvalidation_0-rmse:10.506\tvalidation_1-rmse:15.5479\n",
      "[41]\tvalidation_0-rmse:10.4816\tvalidation_1-rmse:15.55\n",
      "[42]\tvalidation_0-rmse:10.4798\tvalidation_1-rmse:15.5506\n",
      "[43]\tvalidation_0-rmse:10.4781\tvalidation_1-rmse:15.5498\n",
      "[44]\tvalidation_0-rmse:10.448\tvalidation_1-rmse:15.5372\n",
      "[45]\tvalidation_0-rmse:10.4318\tvalidation_1-rmse:15.5347\n",
      "[46]\tvalidation_0-rmse:10.4301\tvalidation_1-rmse:15.5374\n",
      "[47]\tvalidation_0-rmse:10.4136\tvalidation_1-rmse:15.5379\n",
      "[48]\tvalidation_0-rmse:10.4123\tvalidation_1-rmse:15.5398\n",
      "[49]\tvalidation_0-rmse:10.3971\tvalidation_1-rmse:15.5086\n",
      "[50]\tvalidation_0-rmse:10.3898\tvalidation_1-rmse:15.5083\n",
      "[51]\tvalidation_0-rmse:10.3786\tvalidation_1-rmse:15.5085\n",
      "[52]\tvalidation_0-rmse:10.3686\tvalidation_1-rmse:15.5079\n",
      "[53]\tvalidation_0-rmse:10.3491\tvalidation_1-rmse:15.4851\n",
      "[54]\tvalidation_0-rmse:10.3486\tvalidation_1-rmse:15.4846\n",
      "[55]\tvalidation_0-rmse:10.3481\tvalidation_1-rmse:15.4843\n",
      "[56]\tvalidation_0-rmse:10.3471\tvalidation_1-rmse:15.4828\n",
      "[57]\tvalidation_0-rmse:10.3463\tvalidation_1-rmse:15.4835\n",
      "[58]\tvalidation_0-rmse:10.3339\tvalidation_1-rmse:15.4787\n",
      "[59]\tvalidation_0-rmse:10.3238\tvalidation_1-rmse:15.4791\n",
      "[60]\tvalidation_0-rmse:10.3136\tvalidation_1-rmse:15.479\n",
      "[61]\tvalidation_0-rmse:10.3132\tvalidation_1-rmse:15.4789\n",
      "[62]\tvalidation_0-rmse:10.3031\tvalidation_1-rmse:15.4798\n",
      "[63]\tvalidation_0-rmse:10.2934\tvalidation_1-rmse:15.4771\n",
      "[64]\tvalidation_0-rmse:10.2872\tvalidation_1-rmse:15.4788\n",
      "[65]\tvalidation_0-rmse:10.2864\tvalidation_1-rmse:15.4817\n",
      "[66]\tvalidation_0-rmse:10.2763\tvalidation_1-rmse:15.4814\n",
      "[67]\tvalidation_0-rmse:10.2756\tvalidation_1-rmse:15.483\n",
      "[68]\tvalidation_0-rmse:10.2612\tvalidation_1-rmse:15.4813\n",
      "[69]\tvalidation_0-rmse:10.2607\tvalidation_1-rmse:15.4815\n",
      "[70]\tvalidation_0-rmse:10.2499\tvalidation_1-rmse:15.4817\n",
      "[71]\tvalidation_0-rmse:10.2433\tvalidation_1-rmse:15.4799\n",
      "[72]\tvalidation_0-rmse:10.238\tvalidation_1-rmse:15.4792\n",
      "[73]\tvalidation_0-rmse:10.2377\tvalidation_1-rmse:15.4793\n",
      "Stopping. Best iteration:\n",
      "[63]\tvalidation_0-rmse:10.2934\tvalidation_1-rmse:15.4771\n",
      "\n"
     ]
    },
    {
     "data": {
      "text/plain": [
       "114.01054978370667"
      ]
     },
     "execution_count": 121,
     "metadata": {},
     "output_type": "execute_result"
    }
   ],
   "source": [
    "ts = time.time()\n",
    "\n",
    "model = XGBRegressor(\n",
    "    max_depth=8,\n",
    "    n_estimators=1000,\n",
    "    min_child_weight=300, \n",
    "    colsample_bytree=0.8, \n",
    "    subsample=0.8, \n",
    "    eta=0.3,    \n",
    "    seed=42)\n",
    "\n",
    "model.fit(\n",
    "    X_train, \n",
    "    Y_train, \n",
    "    eval_metric=\"rmse\", \n",
    "    eval_set=[(X_train, Y_train), (X_valid, Y_valid)], \n",
    "    verbose=True, \n",
    "    early_stopping_rounds = 10)\n",
    "\n",
    "time.time() - ts"
   ]
  },
  {
   "cell_type": "code",
   "execution_count": 165,
   "metadata": {
    "collapsed": false
   },
   "outputs": [
    {
     "data": {
      "text/html": [
       "<div>\n",
       "<style scoped>\n",
       "    .dataframe tbody tr th:only-of-type {\n",
       "        vertical-align: middle;\n",
       "    }\n",
       "\n",
       "    .dataframe tbody tr th {\n",
       "        vertical-align: top;\n",
       "    }\n",
       "\n",
       "    .dataframe thead th {\n",
       "        text-align: right;\n",
       "    }\n",
       "</style>\n",
       "<table border=\"1\" class=\"dataframe\">\n",
       "  <thead>\n",
       "    <tr style=\"text-align: right;\">\n",
       "      <th></th>\n",
       "      <th>date</th>\n",
       "      <th>date_block_num</th>\n",
       "      <th>shop_id</th>\n",
       "      <th>item_id</th>\n",
       "      <th>item_price</th>\n",
       "      <th>item_cnt_day</th>\n",
       "      <th>key</th>\n",
       "      <th>month</th>\n",
       "      <th>year</th>\n",
       "    </tr>\n",
       "  </thead>\n",
       "  <tbody>\n",
       "    <tr>\n",
       "      <th>0</th>\n",
       "      <td>02.01.2013</td>\n",
       "      <td>0</td>\n",
       "      <td>59</td>\n",
       "      <td>22154</td>\n",
       "      <td>5999.0</td>\n",
       "      <td>5.0</td>\n",
       "      <td>5922154</td>\n",
       "      <td>1</td>\n",
       "      <td>2013</td>\n",
       "    </tr>\n",
       "    <tr>\n",
       "      <th>1</th>\n",
       "      <td>03.01.2013</td>\n",
       "      <td>0</td>\n",
       "      <td>25</td>\n",
       "      <td>2552</td>\n",
       "      <td>5999.0</td>\n",
       "      <td>5.0</td>\n",
       "      <td>252552</td>\n",
       "      <td>1</td>\n",
       "      <td>2013</td>\n",
       "    </tr>\n",
       "    <tr>\n",
       "      <th>2</th>\n",
       "      <td>05.01.2013</td>\n",
       "      <td>0</td>\n",
       "      <td>25</td>\n",
       "      <td>2552</td>\n",
       "      <td>5999.0</td>\n",
       "      <td>5.0</td>\n",
       "      <td>252552</td>\n",
       "      <td>1</td>\n",
       "      <td>2013</td>\n",
       "    </tr>\n",
       "    <tr>\n",
       "      <th>3</th>\n",
       "      <td>06.01.2013</td>\n",
       "      <td>0</td>\n",
       "      <td>25</td>\n",
       "      <td>2554</td>\n",
       "      <td>5999.0</td>\n",
       "      <td>5.0</td>\n",
       "      <td>252554</td>\n",
       "      <td>1</td>\n",
       "      <td>2013</td>\n",
       "    </tr>\n",
       "    <tr>\n",
       "      <th>4</th>\n",
       "      <td>15.01.2013</td>\n",
       "      <td>0</td>\n",
       "      <td>25</td>\n",
       "      <td>2555</td>\n",
       "      <td>5999.0</td>\n",
       "      <td>5.0</td>\n",
       "      <td>252555</td>\n",
       "      <td>1</td>\n",
       "      <td>2013</td>\n",
       "    </tr>\n",
       "  </tbody>\n",
       "</table>\n",
       "</div>"
      ],
      "text/plain": [
       "         date  date_block_num  shop_id  item_id  item_price  item_cnt_day  \\\n",
       "0  02.01.2013               0       59    22154      5999.0           5.0   \n",
       "1  03.01.2013               0       25     2552      5999.0           5.0   \n",
       "2  05.01.2013               0       25     2552      5999.0           5.0   \n",
       "3  06.01.2013               0       25     2554      5999.0           5.0   \n",
       "4  15.01.2013               0       25     2555      5999.0           5.0   \n",
       "\n",
       "       key  month  year  \n",
       "0  5922154      1  2013  \n",
       "1   252552      1  2013  \n",
       "2   252552      1  2013  \n",
       "3   252554      1  2013  \n",
       "4   252555      1  2013  "
      ]
     },
     "execution_count": 165,
     "metadata": {},
     "output_type": "execute_result"
    }
   ],
   "source": [
    "train_data.head()"
   ]
  },
  {
   "cell_type": "code",
   "execution_count": 166,
   "metadata": {
    "collapsed": false
   },
   "outputs": [
    {
     "data": {
      "text/html": [
       "<div>\n",
       "<style scoped>\n",
       "    .dataframe tbody tr th:only-of-type {\n",
       "        vertical-align: middle;\n",
       "    }\n",
       "\n",
       "    .dataframe tbody tr th {\n",
       "        vertical-align: top;\n",
       "    }\n",
       "\n",
       "    .dataframe thead th {\n",
       "        text-align: right;\n",
       "    }\n",
       "</style>\n",
       "<table border=\"1\" class=\"dataframe\">\n",
       "  <thead>\n",
       "    <tr style=\"text-align: right;\">\n",
       "      <th></th>\n",
       "      <th>ID</th>\n",
       "      <th>shop_id</th>\n",
       "      <th>item_id</th>\n",
       "      <th>key</th>\n",
       "    </tr>\n",
       "  </thead>\n",
       "  <tbody>\n",
       "    <tr>\n",
       "      <th>0</th>\n",
       "      <td>0</td>\n",
       "      <td>5</td>\n",
       "      <td>5037</td>\n",
       "      <td>55037</td>\n",
       "    </tr>\n",
       "    <tr>\n",
       "      <th>1</th>\n",
       "      <td>1</td>\n",
       "      <td>5</td>\n",
       "      <td>5320</td>\n",
       "      <td>55320</td>\n",
       "    </tr>\n",
       "    <tr>\n",
       "      <th>2</th>\n",
       "      <td>2</td>\n",
       "      <td>5</td>\n",
       "      <td>5233</td>\n",
       "      <td>55233</td>\n",
       "    </tr>\n",
       "    <tr>\n",
       "      <th>3</th>\n",
       "      <td>3</td>\n",
       "      <td>5</td>\n",
       "      <td>5232</td>\n",
       "      <td>55232</td>\n",
       "    </tr>\n",
       "    <tr>\n",
       "      <th>4</th>\n",
       "      <td>4</td>\n",
       "      <td>5</td>\n",
       "      <td>5268</td>\n",
       "      <td>55268</td>\n",
       "    </tr>\n",
       "  </tbody>\n",
       "</table>\n",
       "</div>"
      ],
      "text/plain": [
       "   ID  shop_id  item_id    key\n",
       "0   0        5     5037  55037\n",
       "1   1        5     5320  55320\n",
       "2   2        5     5233  55233\n",
       "3   3        5     5232  55232\n",
       "4   4        5     5268  55268"
      ]
     },
     "execution_count": 166,
     "metadata": {},
     "output_type": "execute_result"
    }
   ],
   "source": [
    "test_data.head()"
   ]
  },
  {
   "cell_type": "code",
   "execution_count": 169,
   "metadata": {
    "collapsed": true
   },
   "outputs": [],
   "source": [
    "avg_item_price=train_data.groupby(['item_id','shop_id'],as_index=False)['item_price'].mean()"
   ]
  },
  {
   "cell_type": "code",
   "execution_count": 170,
   "metadata": {
    "collapsed": true
   },
   "outputs": [],
   "source": [
    "test_data['month']=11\n",
    "test_data['year']=2015\n",
    "test_data['date_block_num']=34\n",
    "test_data=pd.merge(test_data,avg_item_price,how='left',on=['shop_id','item_id'])"
   ]
  },
  {
   "cell_type": "code",
   "execution_count": 172,
   "metadata": {
    "collapsed": false
   },
   "outputs": [],
   "source": [
    "test_data=test_data.fillna(0)"
   ]
  },
  {
   "cell_type": "code",
   "execution_count": 174,
   "metadata": {
    "collapsed": false
   },
   "outputs": [
    {
     "data": {
      "text/html": [
       "<div>\n",
       "<style scoped>\n",
       "    .dataframe tbody tr th:only-of-type {\n",
       "        vertical-align: middle;\n",
       "    }\n",
       "\n",
       "    .dataframe tbody tr th {\n",
       "        vertical-align: top;\n",
       "    }\n",
       "\n",
       "    .dataframe thead th {\n",
       "        text-align: right;\n",
       "    }\n",
       "</style>\n",
       "<table border=\"1\" class=\"dataframe\">\n",
       "  <thead>\n",
       "    <tr style=\"text-align: right;\">\n",
       "      <th></th>\n",
       "      <th>date_block_num</th>\n",
       "      <th>shop_id</th>\n",
       "      <th>item_id</th>\n",
       "      <th>item_price</th>\n",
       "      <th>month</th>\n",
       "      <th>year</th>\n",
       "      <th>item_cnt_day</th>\n",
       "    </tr>\n",
       "  </thead>\n",
       "  <tbody>\n",
       "    <tr>\n",
       "      <th>0</th>\n",
       "      <td>34</td>\n",
       "      <td>5</td>\n",
       "      <td>5037</td>\n",
       "      <td>5999.0</td>\n",
       "      <td>11</td>\n",
       "      <td>2015</td>\n",
       "      <td>0</td>\n",
       "    </tr>\n",
       "    <tr>\n",
       "      <th>1</th>\n",
       "      <td>34</td>\n",
       "      <td>5</td>\n",
       "      <td>5320</td>\n",
       "      <td>0.0</td>\n",
       "      <td>11</td>\n",
       "      <td>2015</td>\n",
       "      <td>0</td>\n",
       "    </tr>\n",
       "    <tr>\n",
       "      <th>2</th>\n",
       "      <td>34</td>\n",
       "      <td>5</td>\n",
       "      <td>5233</td>\n",
       "      <td>5999.0</td>\n",
       "      <td>11</td>\n",
       "      <td>2015</td>\n",
       "      <td>0</td>\n",
       "    </tr>\n",
       "    <tr>\n",
       "      <th>3</th>\n",
       "      <td>34</td>\n",
       "      <td>5</td>\n",
       "      <td>5232</td>\n",
       "      <td>5999.0</td>\n",
       "      <td>11</td>\n",
       "      <td>2015</td>\n",
       "      <td>0</td>\n",
       "    </tr>\n",
       "    <tr>\n",
       "      <th>4</th>\n",
       "      <td>34</td>\n",
       "      <td>5</td>\n",
       "      <td>5268</td>\n",
       "      <td>0.0</td>\n",
       "      <td>11</td>\n",
       "      <td>2015</td>\n",
       "      <td>0</td>\n",
       "    </tr>\n",
       "  </tbody>\n",
       "</table>\n",
       "</div>"
      ],
      "text/plain": [
       "   date_block_num  shop_id  item_id  item_price  month  year  item_cnt_day\n",
       "0              34        5     5037      5999.0     11  2015             0\n",
       "1              34        5     5320         0.0     11  2015             0\n",
       "2              34        5     5233      5999.0     11  2015             0\n",
       "3              34        5     5232      5999.0     11  2015             0\n",
       "4              34        5     5268         0.0     11  2015             0"
      ]
     },
     "execution_count": 174,
     "metadata": {},
     "output_type": "execute_result"
    }
   ],
   "source": [
    "test_data=test_data[['date_block_num','shop_id','item_id','item_price','month','year']]\n",
    "test_data['item_cnt_day']=0\n",
    "test_data.head()"
   ]
  },
  {
   "cell_type": "code",
   "execution_count": 255,
   "metadata": {
    "collapsed": true
   },
   "outputs": [],
   "source": [
    "train_data_agg=train_data.groupby(['date_block_num','shop_id','item_id','month','year'],\n",
    "                                  as_index=False)['item_cnt_day'].agg({'item_price':'mean',\n",
    "                                                                      'item_cnt_day':'sum'})"
   ]
  },
  {
   "cell_type": "code",
   "execution_count": 256,
   "metadata": {
    "collapsed": false
   },
   "outputs": [
    {
     "data": {
      "text/plain": [
       "(214200, 7)"
      ]
     },
     "execution_count": 256,
     "metadata": {},
     "output_type": "execute_result"
    }
   ],
   "source": [
    "test_data.shape"
   ]
  },
  {
   "cell_type": "code",
   "execution_count": 257,
   "metadata": {
    "collapsed": false
   },
   "outputs": [
    {
     "data": {
      "text/plain": [
       "(1609124, 7)"
      ]
     },
     "execution_count": 257,
     "metadata": {},
     "output_type": "execute_result"
    }
   ],
   "source": [
    "train_data_agg.shape"
   ]
  },
  {
   "cell_type": "code",
   "execution_count": 258,
   "metadata": {
    "collapsed": false
   },
   "outputs": [
    {
     "data": {
      "text/plain": [
       "1823324"
      ]
     },
     "execution_count": 258,
     "metadata": {},
     "output_type": "execute_result"
    }
   ],
   "source": [
    "214200+1609124"
   ]
  },
  {
   "cell_type": "code",
   "execution_count": 259,
   "metadata": {
    "collapsed": false
   },
   "outputs": [],
   "source": [
    "train_data_agg=pd.concat([train_data_agg,test_data],ignore_index=True,sort=False)"
   ]
  },
  {
   "cell_type": "code",
   "execution_count": 260,
   "metadata": {
    "collapsed": false
   },
   "outputs": [
    {
     "data": {
      "text/plain": [
       "(1823324, 7)"
      ]
     },
     "execution_count": 260,
     "metadata": {},
     "output_type": "execute_result"
    }
   ],
   "source": [
    "train_data_agg.shape"
   ]
  },
  {
   "cell_type": "code",
   "execution_count": 261,
   "metadata": {
    "collapsed": false
   },
   "outputs": [
    {
     "data": {
      "text/plain": [
       "(214200, 7)"
      ]
     },
     "execution_count": 261,
     "metadata": {},
     "output_type": "execute_result"
    }
   ],
   "source": [
    "train_data_agg[train_data_agg.date_block_num==34].shape"
   ]
  },
  {
   "cell_type": "code",
   "execution_count": 262,
   "metadata": {
    "collapsed": true
   },
   "outputs": [],
   "source": [
    "def lag_feature(df, lags, col):\n",
    "    tmp = df[['date_block_num','shop_id','item_id',col]]\n",
    "    for i in lags:\n",
    "        shifted = tmp.copy()\n",
    "        shifted.columns = ['date_block_num','shop_id','item_id', col+'_lag_'+str(i)]\n",
    "        shifted['date_block_num'] += i\n",
    "        df = pd.merge(df, shifted, on=['date_block_num','shop_id','item_id'], how='left')\n",
    "    return df"
   ]
  },
  {
   "cell_type": "code",
   "execution_count": 263,
   "metadata": {
    "collapsed": false
   },
   "outputs": [
    {
     "data": {
      "text/plain": [
       "7.639532566070557"
      ]
     },
     "execution_count": 263,
     "metadata": {},
     "output_type": "execute_result"
    }
   ],
   "source": [
    "ts = time.time()\n",
    "train_data_agg = lag_feature(train_data_agg, [1,2,3,6,12], 'item_cnt_day')\n",
    "time.time() - ts"
   ]
  },
  {
   "cell_type": "code",
   "execution_count": 264,
   "metadata": {
    "collapsed": false
   },
   "outputs": [
    {
     "data": {
      "text/plain": [
       "(214200, 12)"
      ]
     },
     "execution_count": 264,
     "metadata": {},
     "output_type": "execute_result"
    }
   ],
   "source": [
    "train_data_agg[train_data_agg.date_block_num==34].shape"
   ]
  },
  {
   "cell_type": "code",
   "execution_count": 265,
   "metadata": {
    "collapsed": false
   },
   "outputs": [
    {
     "data": {
      "text/plain": [
       "(1609124, 12)"
      ]
     },
     "execution_count": 265,
     "metadata": {},
     "output_type": "execute_result"
    }
   ],
   "source": [
    "train_data_agg[train_data_agg.date_block_num!=34].shape"
   ]
  },
  {
   "cell_type": "code",
   "execution_count": 266,
   "metadata": {
    "collapsed": false
   },
   "outputs": [],
   "source": [
    "level_data=train_data_agg.groupby(['date_block_num','shop_id','item_id'],as_index=False)['item_cnt_day'].count()"
   ]
  },
  {
   "cell_type": "code",
   "execution_count": 267,
   "metadata": {
    "collapsed": false
   },
   "outputs": [
    {
     "data": {
      "text/html": [
       "<div>\n",
       "<style scoped>\n",
       "    .dataframe tbody tr th:only-of-type {\n",
       "        vertical-align: middle;\n",
       "    }\n",
       "\n",
       "    .dataframe tbody tr th {\n",
       "        vertical-align: top;\n",
       "    }\n",
       "\n",
       "    .dataframe thead th {\n",
       "        text-align: right;\n",
       "    }\n",
       "</style>\n",
       "<table border=\"1\" class=\"dataframe\">\n",
       "  <thead>\n",
       "    <tr style=\"text-align: right;\">\n",
       "      <th></th>\n",
       "      <th>date_block_num</th>\n",
       "      <th>shop_id</th>\n",
       "      <th>item_id</th>\n",
       "      <th>item_cnt_day</th>\n",
       "    </tr>\n",
       "  </thead>\n",
       "  <tbody>\n",
       "  </tbody>\n",
       "</table>\n",
       "</div>"
      ],
      "text/plain": [
       "Empty DataFrame\n",
       "Columns: [date_block_num, shop_id, item_id, item_cnt_day]\n",
       "Index: []"
      ]
     },
     "execution_count": 267,
     "metadata": {},
     "output_type": "execute_result"
    }
   ],
   "source": [
    "level_data[level_data.item_cnt_day!=1].head()"
   ]
  },
  {
   "cell_type": "code",
   "execution_count": 268,
   "metadata": {
    "collapsed": false
   },
   "outputs": [
    {
     "data": {
      "text/html": [
       "<div>\n",
       "<style scoped>\n",
       "    .dataframe tbody tr th:only-of-type {\n",
       "        vertical-align: middle;\n",
       "    }\n",
       "\n",
       "    .dataframe tbody tr th {\n",
       "        vertical-align: top;\n",
       "    }\n",
       "\n",
       "    .dataframe thead th {\n",
       "        text-align: right;\n",
       "    }\n",
       "</style>\n",
       "<table border=\"1\" class=\"dataframe\">\n",
       "  <thead>\n",
       "    <tr style=\"text-align: right;\">\n",
       "      <th></th>\n",
       "      <th>date_block_num</th>\n",
       "      <th>shop_id</th>\n",
       "      <th>item_id</th>\n",
       "      <th>month</th>\n",
       "      <th>year</th>\n",
       "      <th>item_cnt_day</th>\n",
       "      <th>item_price</th>\n",
       "      <th>item_cnt_day_lag_1</th>\n",
       "      <th>item_cnt_day_lag_2</th>\n",
       "      <th>item_cnt_day_lag_3</th>\n",
       "      <th>item_cnt_day_lag_6</th>\n",
       "      <th>item_cnt_day_lag_12</th>\n",
       "    </tr>\n",
       "  </thead>\n",
       "  <tbody>\n",
       "    <tr>\n",
       "      <th>1447</th>\n",
       "      <td>0</td>\n",
       "      <td>0</td>\n",
       "      <td>13435</td>\n",
       "      <td>1</td>\n",
       "      <td>2013</td>\n",
       "      <td>15.0</td>\n",
       "      <td>5.0</td>\n",
       "      <td>NaN</td>\n",
       "      <td>NaN</td>\n",
       "      <td>NaN</td>\n",
       "      <td>NaN</td>\n",
       "      <td>NaN</td>\n",
       "    </tr>\n",
       "  </tbody>\n",
       "</table>\n",
       "</div>"
      ],
      "text/plain": [
       "      date_block_num  shop_id  item_id  month  year  item_cnt_day  item_price  \\\n",
       "1447               0        0    13435      1  2013          15.0         5.0   \n",
       "\n",
       "      item_cnt_day_lag_1  item_cnt_day_lag_2  item_cnt_day_lag_3  \\\n",
       "1447                 NaN                 NaN                 NaN   \n",
       "\n",
       "      item_cnt_day_lag_6  item_cnt_day_lag_12  \n",
       "1447                 NaN                  NaN  "
      ]
     },
     "execution_count": 268,
     "metadata": {},
     "output_type": "execute_result"
    }
   ],
   "source": [
    "train_data_agg[(train_data_agg.date_block_num==0) & (train_data_agg.shop_id==0) & (train_data_agg.item_id==13435)].head()"
   ]
  },
  {
   "cell_type": "code",
   "execution_count": 269,
   "metadata": {
    "collapsed": false
   },
   "outputs": [
    {
     "data": {
      "text/plain": [
       "(1823324, 12)"
      ]
     },
     "execution_count": 269,
     "metadata": {},
     "output_type": "execute_result"
    }
   ],
   "source": [
    "train_data_agg.shape"
   ]
  },
  {
   "cell_type": "code",
   "execution_count": 270,
   "metadata": {
    "collapsed": false
   },
   "outputs": [
    {
     "data": {
      "text/html": [
       "<div>\n",
       "<style scoped>\n",
       "    .dataframe tbody tr th:only-of-type {\n",
       "        vertical-align: middle;\n",
       "    }\n",
       "\n",
       "    .dataframe tbody tr th {\n",
       "        vertical-align: top;\n",
       "    }\n",
       "\n",
       "    .dataframe thead th {\n",
       "        text-align: right;\n",
       "    }\n",
       "</style>\n",
       "<table border=\"1\" class=\"dataframe\">\n",
       "  <thead>\n",
       "    <tr style=\"text-align: right;\">\n",
       "      <th></th>\n",
       "      <th>date_block_num</th>\n",
       "      <th>shop_id</th>\n",
       "      <th>item_id</th>\n",
       "      <th>month</th>\n",
       "      <th>year</th>\n",
       "      <th>item_cnt_day</th>\n",
       "      <th>item_price</th>\n",
       "      <th>item_cnt_day_lag_1</th>\n",
       "      <th>item_cnt_day_lag_2</th>\n",
       "      <th>item_cnt_day_lag_3</th>\n",
       "      <th>item_cnt_day_lag_6</th>\n",
       "      <th>item_cnt_day_lag_12</th>\n",
       "    </tr>\n",
       "  </thead>\n",
       "  <tbody>\n",
       "    <tr>\n",
       "      <th>687725</th>\n",
       "      <td>12</td>\n",
       "      <td>2</td>\n",
       "      <td>33</td>\n",
       "      <td>1</td>\n",
       "      <td>2014</td>\n",
       "      <td>5.0</td>\n",
       "      <td>5.0</td>\n",
       "      <td>5.0</td>\n",
       "      <td>10.0</td>\n",
       "      <td>NaN</td>\n",
       "      <td>NaN</td>\n",
       "      <td>5.0</td>\n",
       "    </tr>\n",
       "    <tr>\n",
       "      <th>687727</th>\n",
       "      <td>12</td>\n",
       "      <td>2</td>\n",
       "      <td>482</td>\n",
       "      <td>1</td>\n",
       "      <td>2014</td>\n",
       "      <td>10.0</td>\n",
       "      <td>5.0</td>\n",
       "      <td>5.0</td>\n",
       "      <td>10.0</td>\n",
       "      <td>5.0</td>\n",
       "      <td>5.0</td>\n",
       "      <td>5.0</td>\n",
       "    </tr>\n",
       "    <tr>\n",
       "      <th>687729</th>\n",
       "      <td>12</td>\n",
       "      <td>2</td>\n",
       "      <td>804</td>\n",
       "      <td>1</td>\n",
       "      <td>2014</td>\n",
       "      <td>5.0</td>\n",
       "      <td>5.0</td>\n",
       "      <td>5.0</td>\n",
       "      <td>NaN</td>\n",
       "      <td>10.0</td>\n",
       "      <td>NaN</td>\n",
       "      <td>5.0</td>\n",
       "    </tr>\n",
       "    <tr>\n",
       "      <th>687730</th>\n",
       "      <td>12</td>\n",
       "      <td>2</td>\n",
       "      <td>839</td>\n",
       "      <td>1</td>\n",
       "      <td>2014</td>\n",
       "      <td>5.0</td>\n",
       "      <td>5.0</td>\n",
       "      <td>NaN</td>\n",
       "      <td>NaN</td>\n",
       "      <td>NaN</td>\n",
       "      <td>10.0</td>\n",
       "      <td>5.0</td>\n",
       "    </tr>\n",
       "    <tr>\n",
       "      <th>687731</th>\n",
       "      <td>12</td>\n",
       "      <td>2</td>\n",
       "      <td>1007</td>\n",
       "      <td>1</td>\n",
       "      <td>2014</td>\n",
       "      <td>5.0</td>\n",
       "      <td>5.0</td>\n",
       "      <td>5.0</td>\n",
       "      <td>NaN</td>\n",
       "      <td>NaN</td>\n",
       "      <td>NaN</td>\n",
       "      <td>15.0</td>\n",
       "    </tr>\n",
       "  </tbody>\n",
       "</table>\n",
       "</div>"
      ],
      "text/plain": [
       "        date_block_num  shop_id  item_id  month  year  item_cnt_day  \\\n",
       "687725              12        2       33      1  2014           5.0   \n",
       "687727              12        2      482      1  2014          10.0   \n",
       "687729              12        2      804      1  2014           5.0   \n",
       "687730              12        2      839      1  2014           5.0   \n",
       "687731              12        2     1007      1  2014           5.0   \n",
       "\n",
       "        item_price  item_cnt_day_lag_1  item_cnt_day_lag_2  \\\n",
       "687725         5.0                 5.0                10.0   \n",
       "687727         5.0                 5.0                10.0   \n",
       "687729         5.0                 5.0                 NaN   \n",
       "687730         5.0                 NaN                 NaN   \n",
       "687731         5.0                 5.0                 NaN   \n",
       "\n",
       "        item_cnt_day_lag_3  item_cnt_day_lag_6  item_cnt_day_lag_12  \n",
       "687725                 NaN                 NaN                  5.0  \n",
       "687727                 5.0                 5.0                  5.0  \n",
       "687729                10.0                 NaN                  5.0  \n",
       "687730                 NaN                10.0                  5.0  \n",
       "687731                 NaN                 NaN                 15.0  "
      ]
     },
     "execution_count": 270,
     "metadata": {},
     "output_type": "execute_result"
    }
   ],
   "source": [
    "train_data_agg[train_data_agg.item_cnt_day_lag_12>0].head()"
   ]
  },
  {
   "cell_type": "code",
   "execution_count": 271,
   "metadata": {
    "collapsed": false
   },
   "outputs": [
    {
     "data": {
      "text/plain": [
       "(1823324, 12)"
      ]
     },
     "execution_count": 271,
     "metadata": {},
     "output_type": "execute_result"
    }
   ],
   "source": [
    "train_data_agg.shape"
   ]
  },
  {
   "cell_type": "code",
   "execution_count": 272,
   "metadata": {
    "collapsed": true
   },
   "outputs": [],
   "source": [
    "train_data_agg=train_data_agg.fillna(0)"
   ]
  },
  {
   "cell_type": "code",
   "execution_count": 273,
   "metadata": {
    "collapsed": false
   },
   "outputs": [],
   "source": [
    "avg_item_month=train_data_agg[train_data_agg.date_block_num<34].groupby(['shop_id','item_id','month'],as_index=False)['item_cnt_day'].mean()\n",
    "avg_item_month.columns=['shop_id','item_id','month','avg_item_cnt_month']"
   ]
  },
  {
   "cell_type": "code",
   "execution_count": 274,
   "metadata": {
    "collapsed": true
   },
   "outputs": [],
   "source": [
    "train_data_agg=pd.merge(train_data_agg,avg_item_month,how='left',on=['shop_id','item_id','month'])"
   ]
  },
  {
   "cell_type": "code",
   "execution_count": 275,
   "metadata": {
    "collapsed": false
   },
   "outputs": [
    {
     "data": {
      "text/html": [
       "<div>\n",
       "<style scoped>\n",
       "    .dataframe tbody tr th:only-of-type {\n",
       "        vertical-align: middle;\n",
       "    }\n",
       "\n",
       "    .dataframe tbody tr th {\n",
       "        vertical-align: top;\n",
       "    }\n",
       "\n",
       "    .dataframe thead th {\n",
       "        text-align: right;\n",
       "    }\n",
       "</style>\n",
       "<table border=\"1\" class=\"dataframe\">\n",
       "  <thead>\n",
       "    <tr style=\"text-align: right;\">\n",
       "      <th></th>\n",
       "      <th>date_block_num</th>\n",
       "      <th>shop_id</th>\n",
       "      <th>item_id</th>\n",
       "      <th>month</th>\n",
       "      <th>year</th>\n",
       "      <th>item_cnt_day</th>\n",
       "      <th>item_price</th>\n",
       "      <th>item_cnt_day_lag_1</th>\n",
       "      <th>item_cnt_day_lag_2</th>\n",
       "      <th>item_cnt_day_lag_3</th>\n",
       "      <th>item_cnt_day_lag_6</th>\n",
       "      <th>item_cnt_day_lag_12</th>\n",
       "      <th>avg_item_cnt_month</th>\n",
       "    </tr>\n",
       "  </thead>\n",
       "  <tbody>\n",
       "    <tr>\n",
       "      <th>3926</th>\n",
       "      <td>0</td>\n",
       "      <td>2</td>\n",
       "      <td>482</td>\n",
       "      <td>1</td>\n",
       "      <td>2013</td>\n",
       "      <td>5.0</td>\n",
       "      <td>5.0</td>\n",
       "      <td>0.0</td>\n",
       "      <td>0.0</td>\n",
       "      <td>0.0</td>\n",
       "      <td>0.0</td>\n",
       "      <td>0.0</td>\n",
       "      <td>7.500000</td>\n",
       "    </tr>\n",
       "    <tr>\n",
       "      <th>3947</th>\n",
       "      <td>0</td>\n",
       "      <td>2</td>\n",
       "      <td>1007</td>\n",
       "      <td>1</td>\n",
       "      <td>2013</td>\n",
       "      <td>15.0</td>\n",
       "      <td>5.0</td>\n",
       "      <td>0.0</td>\n",
       "      <td>0.0</td>\n",
       "      <td>0.0</td>\n",
       "      <td>0.0</td>\n",
       "      <td>0.0</td>\n",
       "      <td>10.000000</td>\n",
       "    </tr>\n",
       "    <tr>\n",
       "      <th>3968</th>\n",
       "      <td>0</td>\n",
       "      <td>2</td>\n",
       "      <td>1471</td>\n",
       "      <td>1</td>\n",
       "      <td>2013</td>\n",
       "      <td>10.0</td>\n",
       "      <td>5.0</td>\n",
       "      <td>0.0</td>\n",
       "      <td>0.0</td>\n",
       "      <td>0.0</td>\n",
       "      <td>0.0</td>\n",
       "      <td>0.0</td>\n",
       "      <td>8.333333</td>\n",
       "    </tr>\n",
       "    <tr>\n",
       "      <th>3972</th>\n",
       "      <td>0</td>\n",
       "      <td>2</td>\n",
       "      <td>1523</td>\n",
       "      <td>1</td>\n",
       "      <td>2013</td>\n",
       "      <td>25.0</td>\n",
       "      <td>5.0</td>\n",
       "      <td>0.0</td>\n",
       "      <td>0.0</td>\n",
       "      <td>0.0</td>\n",
       "      <td>0.0</td>\n",
       "      <td>0.0</td>\n",
       "      <td>20.000000</td>\n",
       "    </tr>\n",
       "    <tr>\n",
       "      <th>3976</th>\n",
       "      <td>0</td>\n",
       "      <td>2</td>\n",
       "      <td>1832</td>\n",
       "      <td>1</td>\n",
       "      <td>2013</td>\n",
       "      <td>5.0</td>\n",
       "      <td>5.0</td>\n",
       "      <td>0.0</td>\n",
       "      <td>0.0</td>\n",
       "      <td>0.0</td>\n",
       "      <td>0.0</td>\n",
       "      <td>0.0</td>\n",
       "      <td>7.500000</td>\n",
       "    </tr>\n",
       "  </tbody>\n",
       "</table>\n",
       "</div>"
      ],
      "text/plain": [
       "      date_block_num  shop_id  item_id  month  year  item_cnt_day  item_price  \\\n",
       "3926               0        2      482      1  2013           5.0         5.0   \n",
       "3947               0        2     1007      1  2013          15.0         5.0   \n",
       "3968               0        2     1471      1  2013          10.0         5.0   \n",
       "3972               0        2     1523      1  2013          25.0         5.0   \n",
       "3976               0        2     1832      1  2013           5.0         5.0   \n",
       "\n",
       "      item_cnt_day_lag_1  item_cnt_day_lag_2  item_cnt_day_lag_3  \\\n",
       "3926                 0.0                 0.0                 0.0   \n",
       "3947                 0.0                 0.0                 0.0   \n",
       "3968                 0.0                 0.0                 0.0   \n",
       "3972                 0.0                 0.0                 0.0   \n",
       "3976                 0.0                 0.0                 0.0   \n",
       "\n",
       "      item_cnt_day_lag_6  item_cnt_day_lag_12  avg_item_cnt_month  \n",
       "3926                 0.0                  0.0            7.500000  \n",
       "3947                 0.0                  0.0           10.000000  \n",
       "3968                 0.0                  0.0            8.333333  \n",
       "3972                 0.0                  0.0           20.000000  \n",
       "3976                 0.0                  0.0            7.500000  "
      ]
     },
     "execution_count": 275,
     "metadata": {},
     "output_type": "execute_result"
    }
   ],
   "source": [
    "train_data_agg[train_data_agg.item_cnt_day!=train_data_agg.avg_item_cnt_month].head()"
   ]
  },
  {
   "cell_type": "code",
   "execution_count": 276,
   "metadata": {
    "collapsed": false
   },
   "outputs": [
    {
     "data": {
      "text/plain": [
       "(214200, 13)"
      ]
     },
     "execution_count": 276,
     "metadata": {},
     "output_type": "execute_result"
    }
   ],
   "source": [
    "train_data_agg[train_data_agg.date_block_num==34].shape"
   ]
  },
  {
   "cell_type": "code",
   "execution_count": 277,
   "metadata": {
    "collapsed": false
   },
   "outputs": [
    {
     "data": {
      "text/plain": [
       "date_block_num              0\n",
       "shop_id                     0\n",
       "item_id                     0\n",
       "month                       0\n",
       "year                        0\n",
       "item_cnt_day                0\n",
       "item_price                  0\n",
       "item_cnt_day_lag_1          0\n",
       "item_cnt_day_lag_2          0\n",
       "item_cnt_day_lag_3          0\n",
       "item_cnt_day_lag_6          0\n",
       "item_cnt_day_lag_12         0\n",
       "avg_item_cnt_month     184359\n",
       "dtype: int64"
      ]
     },
     "execution_count": 277,
     "metadata": {},
     "output_type": "execute_result"
    }
   ],
   "source": [
    "train_data_agg.isnull().sum()"
   ]
  },
  {
   "cell_type": "code",
   "execution_count": 278,
   "metadata": {
    "collapsed": false
   },
   "outputs": [],
   "source": [
    "train_data_agg[\"avg_item_cnt_month\"] = train_data_agg.groupby([\"item_id\",\"date_block_num\"])['item_price'].transform(lambda x: x.fillna(x.mean()))"
   ]
  },
  {
   "cell_type": "code",
   "execution_count": 279,
   "metadata": {
    "collapsed": false
   },
   "outputs": [
    {
     "data": {
      "text/html": [
       "<div>\n",
       "<style scoped>\n",
       "    .dataframe tbody tr th:only-of-type {\n",
       "        vertical-align: middle;\n",
       "    }\n",
       "\n",
       "    .dataframe tbody tr th {\n",
       "        vertical-align: top;\n",
       "    }\n",
       "\n",
       "    .dataframe thead th {\n",
       "        text-align: right;\n",
       "    }\n",
       "</style>\n",
       "<table border=\"1\" class=\"dataframe\">\n",
       "  <thead>\n",
       "    <tr style=\"text-align: right;\">\n",
       "      <th></th>\n",
       "      <th>date_block_num</th>\n",
       "      <th>shop_id</th>\n",
       "      <th>item_id</th>\n",
       "      <th>month</th>\n",
       "      <th>year</th>\n",
       "      <th>item_cnt_day</th>\n",
       "      <th>item_price</th>\n",
       "      <th>item_cnt_day_lag_1</th>\n",
       "      <th>item_cnt_day_lag_2</th>\n",
       "      <th>item_cnt_day_lag_3</th>\n",
       "      <th>item_cnt_day_lag_6</th>\n",
       "      <th>item_cnt_day_lag_12</th>\n",
       "      <th>avg_item_cnt_month</th>\n",
       "    </tr>\n",
       "  </thead>\n",
       "  <tbody>\n",
       "    <tr>\n",
       "      <th>1609124</th>\n",
       "      <td>34</td>\n",
       "      <td>5</td>\n",
       "      <td>5037</td>\n",
       "      <td>11</td>\n",
       "      <td>2015</td>\n",
       "      <td>0.0</td>\n",
       "      <td>5999.0</td>\n",
       "      <td>0.0</td>\n",
       "      <td>5.0</td>\n",
       "      <td>15.0</td>\n",
       "      <td>5.0</td>\n",
       "      <td>5.0</td>\n",
       "      <td>5999.0</td>\n",
       "    </tr>\n",
       "    <tr>\n",
       "      <th>1609125</th>\n",
       "      <td>34</td>\n",
       "      <td>5</td>\n",
       "      <td>5320</td>\n",
       "      <td>11</td>\n",
       "      <td>2015</td>\n",
       "      <td>0.0</td>\n",
       "      <td>0.0</td>\n",
       "      <td>0.0</td>\n",
       "      <td>0.0</td>\n",
       "      <td>0.0</td>\n",
       "      <td>0.0</td>\n",
       "      <td>0.0</td>\n",
       "      <td>0.0</td>\n",
       "    </tr>\n",
       "    <tr>\n",
       "      <th>1609126</th>\n",
       "      <td>34</td>\n",
       "      <td>5</td>\n",
       "      <td>5233</td>\n",
       "      <td>11</td>\n",
       "      <td>2015</td>\n",
       "      <td>0.0</td>\n",
       "      <td>5999.0</td>\n",
       "      <td>5.0</td>\n",
       "      <td>15.0</td>\n",
       "      <td>5.0</td>\n",
       "      <td>10.0</td>\n",
       "      <td>0.0</td>\n",
       "      <td>5999.0</td>\n",
       "    </tr>\n",
       "    <tr>\n",
       "      <th>1609127</th>\n",
       "      <td>34</td>\n",
       "      <td>5</td>\n",
       "      <td>5232</td>\n",
       "      <td>11</td>\n",
       "      <td>2015</td>\n",
       "      <td>0.0</td>\n",
       "      <td>5999.0</td>\n",
       "      <td>0.0</td>\n",
       "      <td>0.0</td>\n",
       "      <td>5.0</td>\n",
       "      <td>0.0</td>\n",
       "      <td>0.0</td>\n",
       "      <td>5999.0</td>\n",
       "    </tr>\n",
       "    <tr>\n",
       "      <th>1609128</th>\n",
       "      <td>34</td>\n",
       "      <td>5</td>\n",
       "      <td>5268</td>\n",
       "      <td>11</td>\n",
       "      <td>2015</td>\n",
       "      <td>0.0</td>\n",
       "      <td>0.0</td>\n",
       "      <td>0.0</td>\n",
       "      <td>0.0</td>\n",
       "      <td>0.0</td>\n",
       "      <td>0.0</td>\n",
       "      <td>0.0</td>\n",
       "      <td>0.0</td>\n",
       "    </tr>\n",
       "  </tbody>\n",
       "</table>\n",
       "</div>"
      ],
      "text/plain": [
       "         date_block_num  shop_id  item_id  month  year  item_cnt_day  \\\n",
       "1609124              34        5     5037     11  2015           0.0   \n",
       "1609125              34        5     5320     11  2015           0.0   \n",
       "1609126              34        5     5233     11  2015           0.0   \n",
       "1609127              34        5     5232     11  2015           0.0   \n",
       "1609128              34        5     5268     11  2015           0.0   \n",
       "\n",
       "         item_price  item_cnt_day_lag_1  item_cnt_day_lag_2  \\\n",
       "1609124      5999.0                 0.0                 5.0   \n",
       "1609125         0.0                 0.0                 0.0   \n",
       "1609126      5999.0                 5.0                15.0   \n",
       "1609127      5999.0                 0.0                 0.0   \n",
       "1609128         0.0                 0.0                 0.0   \n",
       "\n",
       "         item_cnt_day_lag_3  item_cnt_day_lag_6  item_cnt_day_lag_12  \\\n",
       "1609124                15.0                 5.0                  5.0   \n",
       "1609125                 0.0                 0.0                  0.0   \n",
       "1609126                 5.0                10.0                  0.0   \n",
       "1609127                 5.0                 0.0                  0.0   \n",
       "1609128                 0.0                 0.0                  0.0   \n",
       "\n",
       "         avg_item_cnt_month  \n",
       "1609124              5999.0  \n",
       "1609125                 0.0  \n",
       "1609126              5999.0  \n",
       "1609127              5999.0  \n",
       "1609128                 0.0  "
      ]
     },
     "execution_count": 279,
     "metadata": {},
     "output_type": "execute_result"
    }
   ],
   "source": [
    "train_data_agg[train_data_agg.date_block_num==34].head()"
   ]
  },
  {
   "cell_type": "code",
   "execution_count": 293,
   "metadata": {
    "collapsed": false
   },
   "outputs": [
    {
     "data": {
      "text/html": [
       "<div>\n",
       "<style scoped>\n",
       "    .dataframe tbody tr th:only-of-type {\n",
       "        vertical-align: middle;\n",
       "    }\n",
       "\n",
       "    .dataframe tbody tr th {\n",
       "        vertical-align: top;\n",
       "    }\n",
       "\n",
       "    .dataframe thead th {\n",
       "        text-align: right;\n",
       "    }\n",
       "</style>\n",
       "<table border=\"1\" class=\"dataframe\">\n",
       "  <thead>\n",
       "    <tr style=\"text-align: right;\">\n",
       "      <th></th>\n",
       "      <th>item_name</th>\n",
       "      <th>item_id</th>\n",
       "      <th>item_category_id</th>\n",
       "    </tr>\n",
       "  </thead>\n",
       "  <tbody>\n",
       "    <tr>\n",
       "      <th>0</th>\n",
       "      <td>! ВО ВЛАСТИ НАВАЖДЕНИЯ (ПЛАСТ.)         D</td>\n",
       "      <td>0</td>\n",
       "      <td>40</td>\n",
       "    </tr>\n",
       "    <tr>\n",
       "      <th>1</th>\n",
       "      <td>!ABBYY FineReader 12 Professional Edition Full...</td>\n",
       "      <td>1</td>\n",
       "      <td>76</td>\n",
       "    </tr>\n",
       "    <tr>\n",
       "      <th>2</th>\n",
       "      <td>***В ЛУЧАХ СЛАВЫ   (UNV)                    D</td>\n",
       "      <td>2</td>\n",
       "      <td>40</td>\n",
       "    </tr>\n",
       "    <tr>\n",
       "      <th>3</th>\n",
       "      <td>***ГОЛУБАЯ ВОЛНА  (Univ)                      D</td>\n",
       "      <td>3</td>\n",
       "      <td>40</td>\n",
       "    </tr>\n",
       "    <tr>\n",
       "      <th>4</th>\n",
       "      <td>***КОРОБКА (СТЕКЛО)                       D</td>\n",
       "      <td>4</td>\n",
       "      <td>40</td>\n",
       "    </tr>\n",
       "  </tbody>\n",
       "</table>\n",
       "</div>"
      ],
      "text/plain": [
       "                                           item_name  item_id  \\\n",
       "0          ! ВО ВЛАСТИ НАВАЖДЕНИЯ (ПЛАСТ.)         D        0   \n",
       "1  !ABBYY FineReader 12 Professional Edition Full...        1   \n",
       "2      ***В ЛУЧАХ СЛАВЫ   (UNV)                    D        2   \n",
       "3    ***ГОЛУБАЯ ВОЛНА  (Univ)                      D        3   \n",
       "4        ***КОРОБКА (СТЕКЛО)                       D        4   \n",
       "\n",
       "   item_category_id  \n",
       "0                40  \n",
       "1                76  \n",
       "2                40  \n",
       "3                40  \n",
       "4                40  "
      ]
     },
     "execution_count": 293,
     "metadata": {},
     "output_type": "execute_result"
    }
   ],
   "source": [
    "item_data.head()"
   ]
  },
  {
   "cell_type": "code",
   "execution_count": 294,
   "metadata": {
    "collapsed": true
   },
   "outputs": [],
   "source": [
    "train_data_agg=pd.merge(train_data_agg,item_data,how='left',on='item_id')"
   ]
  },
  {
   "cell_type": "markdown",
   "metadata": {},
   "source": [
    "### XGBoost iteration 2"
   ]
  },
  {
   "cell_type": "code",
   "execution_count": 297,
   "metadata": {
    "collapsed": false
   },
   "outputs": [
    {
     "data": {
      "text/html": [
       "<div>\n",
       "<style scoped>\n",
       "    .dataframe tbody tr th:only-of-type {\n",
       "        vertical-align: middle;\n",
       "    }\n",
       "\n",
       "    .dataframe tbody tr th {\n",
       "        vertical-align: top;\n",
       "    }\n",
       "\n",
       "    .dataframe thead th {\n",
       "        text-align: right;\n",
       "    }\n",
       "</style>\n",
       "<table border=\"1\" class=\"dataframe\">\n",
       "  <thead>\n",
       "    <tr style=\"text-align: right;\">\n",
       "      <th></th>\n",
       "      <th>date_block_num</th>\n",
       "      <th>shop_id</th>\n",
       "      <th>item_id</th>\n",
       "      <th>month</th>\n",
       "      <th>year</th>\n",
       "      <th>item_cnt_day</th>\n",
       "      <th>item_price</th>\n",
       "      <th>item_cnt_day_lag_1</th>\n",
       "      <th>item_cnt_day_lag_2</th>\n",
       "      <th>item_cnt_day_lag_3</th>\n",
       "      <th>item_cnt_day_lag_6</th>\n",
       "      <th>item_cnt_day_lag_12</th>\n",
       "      <th>avg_item_cnt_month</th>\n",
       "      <th>item_name</th>\n",
       "      <th>item_category_id</th>\n",
       "    </tr>\n",
       "  </thead>\n",
       "  <tbody>\n",
       "    <tr>\n",
       "      <th>0</th>\n",
       "      <td>0</td>\n",
       "      <td>0</td>\n",
       "      <td>32</td>\n",
       "      <td>1</td>\n",
       "      <td>2013</td>\n",
       "      <td>20.0</td>\n",
       "      <td>5.0</td>\n",
       "      <td>0.0</td>\n",
       "      <td>0.0</td>\n",
       "      <td>0.0</td>\n",
       "      <td>0.0</td>\n",
       "      <td>0.0</td>\n",
       "      <td>5.0</td>\n",
       "      <td>1+1</td>\n",
       "      <td>40</td>\n",
       "    </tr>\n",
       "    <tr>\n",
       "      <th>1</th>\n",
       "      <td>0</td>\n",
       "      <td>0</td>\n",
       "      <td>33</td>\n",
       "      <td>1</td>\n",
       "      <td>2013</td>\n",
       "      <td>15.0</td>\n",
       "      <td>5.0</td>\n",
       "      <td>0.0</td>\n",
       "      <td>0.0</td>\n",
       "      <td>0.0</td>\n",
       "      <td>0.0</td>\n",
       "      <td>0.0</td>\n",
       "      <td>5.0</td>\n",
       "      <td>1+1 (BD)</td>\n",
       "      <td>37</td>\n",
       "    </tr>\n",
       "    <tr>\n",
       "      <th>2</th>\n",
       "      <td>0</td>\n",
       "      <td>0</td>\n",
       "      <td>35</td>\n",
       "      <td>1</td>\n",
       "      <td>2013</td>\n",
       "      <td>5.0</td>\n",
       "      <td>5.0</td>\n",
       "      <td>0.0</td>\n",
       "      <td>0.0</td>\n",
       "      <td>0.0</td>\n",
       "      <td>0.0</td>\n",
       "      <td>0.0</td>\n",
       "      <td>5.0</td>\n",
       "      <td>10 ЛЕТ СПУСТЯ</td>\n",
       "      <td>40</td>\n",
       "    </tr>\n",
       "    <tr>\n",
       "      <th>3</th>\n",
       "      <td>0</td>\n",
       "      <td>0</td>\n",
       "      <td>43</td>\n",
       "      <td>1</td>\n",
       "      <td>2013</td>\n",
       "      <td>5.0</td>\n",
       "      <td>5.0</td>\n",
       "      <td>0.0</td>\n",
       "      <td>0.0</td>\n",
       "      <td>0.0</td>\n",
       "      <td>0.0</td>\n",
       "      <td>0.0</td>\n",
       "      <td>5.0</td>\n",
       "      <td>100 МИЛЛИОНОВ ЕВРО</td>\n",
       "      <td>40</td>\n",
       "    </tr>\n",
       "    <tr>\n",
       "      <th>4</th>\n",
       "      <td>0</td>\n",
       "      <td>0</td>\n",
       "      <td>51</td>\n",
       "      <td>1</td>\n",
       "      <td>2013</td>\n",
       "      <td>10.0</td>\n",
       "      <td>5.0</td>\n",
       "      <td>0.0</td>\n",
       "      <td>0.0</td>\n",
       "      <td>0.0</td>\n",
       "      <td>0.0</td>\n",
       "      <td>0.0</td>\n",
       "      <td>5.0</td>\n",
       "      <td>100 лучших произведений классики (mp3-CD) (Dig...</td>\n",
       "      <td>57</td>\n",
       "    </tr>\n",
       "  </tbody>\n",
       "</table>\n",
       "</div>"
      ],
      "text/plain": [
       "   date_block_num  shop_id  item_id  month  year  item_cnt_day  item_price  \\\n",
       "0               0        0       32      1  2013          20.0         5.0   \n",
       "1               0        0       33      1  2013          15.0         5.0   \n",
       "2               0        0       35      1  2013           5.0         5.0   \n",
       "3               0        0       43      1  2013           5.0         5.0   \n",
       "4               0        0       51      1  2013          10.0         5.0   \n",
       "\n",
       "   item_cnt_day_lag_1  item_cnt_day_lag_2  item_cnt_day_lag_3  \\\n",
       "0                 0.0                 0.0                 0.0   \n",
       "1                 0.0                 0.0                 0.0   \n",
       "2                 0.0                 0.0                 0.0   \n",
       "3                 0.0                 0.0                 0.0   \n",
       "4                 0.0                 0.0                 0.0   \n",
       "\n",
       "   item_cnt_day_lag_6  item_cnt_day_lag_12  avg_item_cnt_month  \\\n",
       "0                 0.0                  0.0                 5.0   \n",
       "1                 0.0                  0.0                 5.0   \n",
       "2                 0.0                  0.0                 5.0   \n",
       "3                 0.0                  0.0                 5.0   \n",
       "4                 0.0                  0.0                 5.0   \n",
       "\n",
       "                                           item_name  item_category_id  \n",
       "0                                                1+1                40  \n",
       "1                                           1+1 (BD)                37  \n",
       "2                                      10 ЛЕТ СПУСТЯ                40  \n",
       "3                                 100 МИЛЛИОНОВ ЕВРО                40  \n",
       "4  100 лучших произведений классики (mp3-CD) (Dig...                57  "
      ]
     },
     "execution_count": 297,
     "metadata": {},
     "output_type": "execute_result"
    }
   ],
   "source": [
    "train_data_agg.head()"
   ]
  },
  {
   "cell_type": "code",
   "execution_count": 298,
   "metadata": {
    "collapsed": false
   },
   "outputs": [],
   "source": [
    "X_train=train_data_agg[train_data_agg.date_block_num<33].drop(['item_cnt_day','year','item_cnt_day_lag_6','item_name'], axis=1)\n",
    "Y_train=train_data_agg[train_data_agg.date_block_num<33]['item_cnt_day']\n",
    "X_valid=train_data_agg[train_data_agg.date_block_num==33].drop(['item_cnt_day','year','item_cnt_day_lag_6','item_name'],axis=1)\n",
    "Y_valid=train_data_agg[train_data_agg.date_block_num==33]['item_cnt_day']\n",
    "X_test=train_data_agg[train_data_agg.date_block_num==34].drop(['item_cnt_day','year','item_cnt_day_lag_6','item_name'],axis=1)"
   ]
  },
  {
   "cell_type": "code",
   "execution_count": 299,
   "metadata": {
    "collapsed": false
   },
   "outputs": [
    {
     "name": "stdout",
     "output_type": "stream",
     "text": [
      "[0]\tvalidation_0-rmse:14.2777\tvalidation_1-rmse:17.8236\n",
      "Multiple eval metrics have been passed: 'validation_1-rmse' will be used for early stopping.\n",
      "\n",
      "Will train until validation_1-rmse hasn't improved in 10 rounds.\n",
      "[1]\tvalidation_0-rmse:13.4137\tvalidation_1-rmse:17.1157\n",
      "[2]\tvalidation_0-rmse:12.7088\tvalidation_1-rmse:16.5185\n",
      "[3]\tvalidation_0-rmse:12.0564\tvalidation_1-rmse:15.9925\n",
      "[4]\tvalidation_0-rmse:11.5498\tvalidation_1-rmse:15.6071\n",
      "[5]\tvalidation_0-rmse:11.1193\tvalidation_1-rmse:15.2505\n",
      "[6]\tvalidation_0-rmse:10.7228\tvalidation_1-rmse:14.9291\n",
      "[7]\tvalidation_0-rmse:10.3965\tvalidation_1-rmse:14.6713\n",
      "[8]\tvalidation_0-rmse:10.0809\tvalidation_1-rmse:14.4255\n",
      "[9]\tvalidation_0-rmse:9.81367\tvalidation_1-rmse:14.2242\n",
      "[10]\tvalidation_0-rmse:9.58374\tvalidation_1-rmse:14.0509\n",
      "[11]\tvalidation_0-rmse:9.39549\tvalidation_1-rmse:13.8963\n",
      "[12]\tvalidation_0-rmse:9.24324\tvalidation_1-rmse:13.7788\n",
      "[13]\tvalidation_0-rmse:9.11507\tvalidation_1-rmse:13.6935\n",
      "[14]\tvalidation_0-rmse:9.00964\tvalidation_1-rmse:13.6106\n",
      "[15]\tvalidation_0-rmse:8.8815\tvalidation_1-rmse:13.483\n",
      "[16]\tvalidation_0-rmse:8.79138\tvalidation_1-rmse:13.399\n",
      "[17]\tvalidation_0-rmse:8.71469\tvalidation_1-rmse:13.3386\n",
      "[18]\tvalidation_0-rmse:8.6514\tvalidation_1-rmse:13.2946\n",
      "[19]\tvalidation_0-rmse:8.59476\tvalidation_1-rmse:13.2504\n",
      "[20]\tvalidation_0-rmse:8.54739\tvalidation_1-rmse:13.2343\n",
      "[21]\tvalidation_0-rmse:8.5029\tvalidation_1-rmse:13.1711\n",
      "[22]\tvalidation_0-rmse:8.46343\tvalidation_1-rmse:13.1362\n",
      "[23]\tvalidation_0-rmse:8.43059\tvalidation_1-rmse:13.1173\n",
      "[24]\tvalidation_0-rmse:8.40343\tvalidation_1-rmse:13.1007\n",
      "[25]\tvalidation_0-rmse:8.38074\tvalidation_1-rmse:13.0839\n",
      "[26]\tvalidation_0-rmse:8.35227\tvalidation_1-rmse:13.0249\n",
      "[27]\tvalidation_0-rmse:8.33349\tvalidation_1-rmse:13.0149\n",
      "[28]\tvalidation_0-rmse:8.31085\tvalidation_1-rmse:12.9711\n",
      "[29]\tvalidation_0-rmse:8.29091\tvalidation_1-rmse:12.9391\n",
      "[30]\tvalidation_0-rmse:8.27436\tvalidation_1-rmse:12.9304\n",
      "[31]\tvalidation_0-rmse:8.25833\tvalidation_1-rmse:12.9018\n",
      "[32]\tvalidation_0-rmse:8.24498\tvalidation_1-rmse:12.8664\n",
      "[33]\tvalidation_0-rmse:8.22872\tvalidation_1-rmse:12.8577\n",
      "[34]\tvalidation_0-rmse:8.21741\tvalidation_1-rmse:12.8489\n",
      "[35]\tvalidation_0-rmse:8.20412\tvalidation_1-rmse:12.8442\n",
      "[36]\tvalidation_0-rmse:8.19547\tvalidation_1-rmse:12.8168\n",
      "[37]\tvalidation_0-rmse:8.18625\tvalidation_1-rmse:12.8123\n",
      "[38]\tvalidation_0-rmse:8.17963\tvalidation_1-rmse:12.8144\n",
      "[39]\tvalidation_0-rmse:8.17434\tvalidation_1-rmse:12.809\n",
      "[40]\tvalidation_0-rmse:8.16736\tvalidation_1-rmse:12.8054\n",
      "[41]\tvalidation_0-rmse:8.15882\tvalidation_1-rmse:12.7742\n",
      "[42]\tvalidation_0-rmse:8.14857\tvalidation_1-rmse:12.7417\n",
      "[43]\tvalidation_0-rmse:8.14156\tvalidation_1-rmse:12.7099\n",
      "[44]\tvalidation_0-rmse:8.13331\tvalidation_1-rmse:12.707\n",
      "[45]\tvalidation_0-rmse:8.1262\tvalidation_1-rmse:12.691\n",
      "[46]\tvalidation_0-rmse:8.12211\tvalidation_1-rmse:12.6916\n",
      "[47]\tvalidation_0-rmse:8.11264\tvalidation_1-rmse:12.6856\n",
      "[48]\tvalidation_0-rmse:8.10594\tvalidation_1-rmse:12.6822\n",
      "[49]\tvalidation_0-rmse:8.09982\tvalidation_1-rmse:12.6529\n",
      "[50]\tvalidation_0-rmse:8.0943\tvalidation_1-rmse:12.6306\n",
      "[51]\tvalidation_0-rmse:8.08802\tvalidation_1-rmse:12.6265\n",
      "[52]\tvalidation_0-rmse:8.08321\tvalidation_1-rmse:12.6223\n",
      "[53]\tvalidation_0-rmse:8.0784\tvalidation_1-rmse:12.6195\n",
      "[54]\tvalidation_0-rmse:8.07256\tvalidation_1-rmse:12.6163\n",
      "[55]\tvalidation_0-rmse:8.06888\tvalidation_1-rmse:12.5933\n",
      "[56]\tvalidation_0-rmse:8.06424\tvalidation_1-rmse:12.5726\n",
      "[57]\tvalidation_0-rmse:8.06041\tvalidation_1-rmse:12.5715\n",
      "[58]\tvalidation_0-rmse:8.05714\tvalidation_1-rmse:12.5489\n",
      "[59]\tvalidation_0-rmse:8.05179\tvalidation_1-rmse:12.5293\n",
      "[60]\tvalidation_0-rmse:8.04544\tvalidation_1-rmse:12.5274\n",
      "[61]\tvalidation_0-rmse:8.03969\tvalidation_1-rmse:12.5218\n",
      "[62]\tvalidation_0-rmse:8.03569\tvalidation_1-rmse:12.504\n",
      "[63]\tvalidation_0-rmse:8.03031\tvalidation_1-rmse:12.4986\n",
      "[64]\tvalidation_0-rmse:8.02508\tvalidation_1-rmse:12.4954\n",
      "[65]\tvalidation_0-rmse:8.02203\tvalidation_1-rmse:12.4941\n",
      "[66]\tvalidation_0-rmse:8.01789\tvalidation_1-rmse:12.4933\n",
      "[67]\tvalidation_0-rmse:8.01294\tvalidation_1-rmse:12.4914\n",
      "[68]\tvalidation_0-rmse:8.00887\tvalidation_1-rmse:12.4672\n",
      "[69]\tvalidation_0-rmse:7.99831\tvalidation_1-rmse:12.4517\n",
      "[70]\tvalidation_0-rmse:7.99077\tvalidation_1-rmse:12.4495\n",
      "[71]\tvalidation_0-rmse:7.98737\tvalidation_1-rmse:12.4306\n",
      "[72]\tvalidation_0-rmse:7.98458\tvalidation_1-rmse:12.4302\n",
      "[73]\tvalidation_0-rmse:7.98158\tvalidation_1-rmse:12.4293\n",
      "[74]\tvalidation_0-rmse:7.97825\tvalidation_1-rmse:12.4288\n",
      "[75]\tvalidation_0-rmse:7.9758\tvalidation_1-rmse:12.4112\n",
      "[76]\tvalidation_0-rmse:7.97004\tvalidation_1-rmse:12.4091\n",
      "[77]\tvalidation_0-rmse:7.96378\tvalidation_1-rmse:12.428\n",
      "[78]\tvalidation_0-rmse:7.9592\tvalidation_1-rmse:12.4091\n",
      "[79]\tvalidation_0-rmse:7.95657\tvalidation_1-rmse:12.3929\n",
      "[80]\tvalidation_0-rmse:7.95433\tvalidation_1-rmse:12.3924\n",
      "[81]\tvalidation_0-rmse:7.95193\tvalidation_1-rmse:12.3851\n",
      "[82]\tvalidation_0-rmse:7.94998\tvalidation_1-rmse:12.3845\n",
      "[83]\tvalidation_0-rmse:7.94725\tvalidation_1-rmse:12.3652\n",
      "[84]\tvalidation_0-rmse:7.94436\tvalidation_1-rmse:12.3631\n",
      "[85]\tvalidation_0-rmse:7.94203\tvalidation_1-rmse:12.3621\n",
      "[86]\tvalidation_0-rmse:7.94042\tvalidation_1-rmse:12.3606\n",
      "[87]\tvalidation_0-rmse:7.93847\tvalidation_1-rmse:12.3576\n",
      "[88]\tvalidation_0-rmse:7.93646\tvalidation_1-rmse:12.3452\n",
      "[89]\tvalidation_0-rmse:7.93398\tvalidation_1-rmse:12.33\n",
      "[90]\tvalidation_0-rmse:7.93013\tvalidation_1-rmse:12.3289\n",
      "[91]\tvalidation_0-rmse:7.92837\tvalidation_1-rmse:12.3295\n",
      "[92]\tvalidation_0-rmse:7.92608\tvalidation_1-rmse:12.3129\n",
      "[93]\tvalidation_0-rmse:7.92284\tvalidation_1-rmse:12.3093\n",
      "[94]\tvalidation_0-rmse:7.91751\tvalidation_1-rmse:12.3021\n",
      "[95]\tvalidation_0-rmse:7.91588\tvalidation_1-rmse:12.3015\n",
      "[96]\tvalidation_0-rmse:7.91392\tvalidation_1-rmse:12.3003\n",
      "[97]\tvalidation_0-rmse:7.91103\tvalidation_1-rmse:12.2842\n",
      "[98]\tvalidation_0-rmse:7.90826\tvalidation_1-rmse:12.267\n",
      "[99]\tvalidation_0-rmse:7.90666\tvalidation_1-rmse:12.2666\n",
      "[100]\tvalidation_0-rmse:7.90467\tvalidation_1-rmse:12.2512\n",
      "[101]\tvalidation_0-rmse:7.90297\tvalidation_1-rmse:12.2509\n",
      "[102]\tvalidation_0-rmse:7.9004\tvalidation_1-rmse:12.2501\n",
      "[103]\tvalidation_0-rmse:7.89834\tvalidation_1-rmse:12.2352\n",
      "[104]\tvalidation_0-rmse:7.89666\tvalidation_1-rmse:12.2199\n",
      "[105]\tvalidation_0-rmse:7.8935\tvalidation_1-rmse:12.2186\n",
      "[106]\tvalidation_0-rmse:7.88849\tvalidation_1-rmse:12.2387\n",
      "[107]\tvalidation_0-rmse:7.88643\tvalidation_1-rmse:12.2371\n",
      "[108]\tvalidation_0-rmse:7.88486\tvalidation_1-rmse:12.2252\n",
      "[109]\tvalidation_0-rmse:7.88361\tvalidation_1-rmse:12.2241\n",
      "[110]\tvalidation_0-rmse:7.88208\tvalidation_1-rmse:12.2115\n",
      "[111]\tvalidation_0-rmse:7.88038\tvalidation_1-rmse:12.21\n",
      "[112]\tvalidation_0-rmse:7.87794\tvalidation_1-rmse:12.1917\n",
      "[113]\tvalidation_0-rmse:7.8767\tvalidation_1-rmse:12.1802\n",
      "[114]\tvalidation_0-rmse:7.87544\tvalidation_1-rmse:12.1795\n",
      "[115]\tvalidation_0-rmse:7.86755\tvalidation_1-rmse:12.1671\n",
      "[116]\tvalidation_0-rmse:7.86572\tvalidation_1-rmse:12.1568\n",
      "[117]\tvalidation_0-rmse:7.86443\tvalidation_1-rmse:12.1557\n",
      "[118]\tvalidation_0-rmse:7.86261\tvalidation_1-rmse:12.1535\n",
      "[119]\tvalidation_0-rmse:7.86128\tvalidation_1-rmse:12.1526\n",
      "[120]\tvalidation_0-rmse:7.85994\tvalidation_1-rmse:12.1419\n",
      "[121]\tvalidation_0-rmse:7.85898\tvalidation_1-rmse:12.1307\n",
      "[122]\tvalidation_0-rmse:7.85749\tvalidation_1-rmse:12.1208\n",
      "[123]\tvalidation_0-rmse:7.85273\tvalidation_1-rmse:12.12\n",
      "[124]\tvalidation_0-rmse:7.85164\tvalidation_1-rmse:12.1096\n",
      "[125]\tvalidation_0-rmse:7.84298\tvalidation_1-rmse:12.0862\n",
      "[126]\tvalidation_0-rmse:7.84177\tvalidation_1-rmse:12.0741\n",
      "[127]\tvalidation_0-rmse:7.8406\tvalidation_1-rmse:12.0735\n",
      "[128]\tvalidation_0-rmse:7.83966\tvalidation_1-rmse:12.0636\n",
      "[129]\tvalidation_0-rmse:7.83803\tvalidation_1-rmse:12.0615\n",
      "[130]\tvalidation_0-rmse:7.83592\tvalidation_1-rmse:12.0606\n",
      "[131]\tvalidation_0-rmse:7.83302\tvalidation_1-rmse:12.0539\n",
      "[132]\tvalidation_0-rmse:7.83183\tvalidation_1-rmse:12.0536\n",
      "[133]\tvalidation_0-rmse:7.8308\tvalidation_1-rmse:12.0432\n",
      "[134]\tvalidation_0-rmse:7.82571\tvalidation_1-rmse:12.0331\n",
      "[135]\tvalidation_0-rmse:7.82302\tvalidation_1-rmse:12.0318\n",
      "[136]\tvalidation_0-rmse:7.8217\tvalidation_1-rmse:12.0187\n",
      "[137]\tvalidation_0-rmse:7.82082\tvalidation_1-rmse:12.0179\n",
      "[138]\tvalidation_0-rmse:7.81949\tvalidation_1-rmse:12.017\n",
      "[139]\tvalidation_0-rmse:7.81831\tvalidation_1-rmse:12.0062\n",
      "[140]\tvalidation_0-rmse:7.81735\tvalidation_1-rmse:11.997\n",
      "[141]\tvalidation_0-rmse:7.81678\tvalidation_1-rmse:11.9904\n",
      "[142]\tvalidation_0-rmse:7.81553\tvalidation_1-rmse:11.9915\n",
      "[143]\tvalidation_0-rmse:7.81211\tvalidation_1-rmse:11.9851\n",
      "[144]\tvalidation_0-rmse:7.81119\tvalidation_1-rmse:11.984\n",
      "[145]\tvalidation_0-rmse:7.80713\tvalidation_1-rmse:11.9831\n",
      "[146]\tvalidation_0-rmse:7.80597\tvalidation_1-rmse:11.9784\n",
      "[147]\tvalidation_0-rmse:7.80366\tvalidation_1-rmse:11.9648\n",
      "[148]\tvalidation_0-rmse:7.80275\tvalidation_1-rmse:11.9638\n",
      "[149]\tvalidation_0-rmse:7.80187\tvalidation_1-rmse:11.9634\n",
      "[150]\tvalidation_0-rmse:7.7991\tvalidation_1-rmse:11.9667\n",
      "[151]\tvalidation_0-rmse:7.79649\tvalidation_1-rmse:11.9617\n",
      "[152]\tvalidation_0-rmse:7.79526\tvalidation_1-rmse:11.9523\n",
      "[153]\tvalidation_0-rmse:7.79448\tvalidation_1-rmse:11.9524\n",
      "[154]\tvalidation_0-rmse:7.79314\tvalidation_1-rmse:11.9526\n",
      "[155]\tvalidation_0-rmse:7.79178\tvalidation_1-rmse:11.9513\n",
      "[156]\tvalidation_0-rmse:7.79072\tvalidation_1-rmse:11.9503\n",
      "[157]\tvalidation_0-rmse:7.78926\tvalidation_1-rmse:11.9434\n",
      "[158]\tvalidation_0-rmse:7.78842\tvalidation_1-rmse:11.943\n",
      "[159]\tvalidation_0-rmse:7.78737\tvalidation_1-rmse:11.9321\n",
      "[160]\tvalidation_0-rmse:7.78455\tvalidation_1-rmse:11.932\n",
      "[161]\tvalidation_0-rmse:7.78285\tvalidation_1-rmse:11.9323\n",
      "[162]\tvalidation_0-rmse:7.78113\tvalidation_1-rmse:11.9287\n",
      "[163]\tvalidation_0-rmse:7.78057\tvalidation_1-rmse:11.9294\n",
      "[164]\tvalidation_0-rmse:7.77998\tvalidation_1-rmse:11.9306\n",
      "[165]\tvalidation_0-rmse:7.77949\tvalidation_1-rmse:11.9315\n",
      "[166]\tvalidation_0-rmse:7.77789\tvalidation_1-rmse:11.9237\n",
      "[167]\tvalidation_0-rmse:7.77715\tvalidation_1-rmse:11.925\n",
      "[168]\tvalidation_0-rmse:7.77631\tvalidation_1-rmse:11.9244\n",
      "[169]\tvalidation_0-rmse:7.77476\tvalidation_1-rmse:11.9242\n",
      "[170]\tvalidation_0-rmse:7.7728\tvalidation_1-rmse:11.9236\n",
      "[171]\tvalidation_0-rmse:7.77211\tvalidation_1-rmse:11.9226\n",
      "[172]\tvalidation_0-rmse:7.76732\tvalidation_1-rmse:11.9219\n",
      "[173]\tvalidation_0-rmse:7.76665\tvalidation_1-rmse:11.9213\n",
      "[174]\tvalidation_0-rmse:7.76602\tvalidation_1-rmse:11.9209\n",
      "[175]\tvalidation_0-rmse:7.76449\tvalidation_1-rmse:11.9108\n",
      "[176]\tvalidation_0-rmse:7.76384\tvalidation_1-rmse:11.9023\n",
      "[177]\tvalidation_0-rmse:7.76331\tvalidation_1-rmse:11.9019\n",
      "[178]\tvalidation_0-rmse:7.76282\tvalidation_1-rmse:11.9021\n",
      "[179]\tvalidation_0-rmse:7.762\tvalidation_1-rmse:11.9012\n",
      "[180]\tvalidation_0-rmse:7.76124\tvalidation_1-rmse:11.9011\n",
      "[181]\tvalidation_0-rmse:7.76091\tvalidation_1-rmse:11.9011\n",
      "[182]\tvalidation_0-rmse:7.75933\tvalidation_1-rmse:11.8968\n",
      "[183]\tvalidation_0-rmse:7.757\tvalidation_1-rmse:11.8966\n",
      "[184]\tvalidation_0-rmse:7.7546\tvalidation_1-rmse:11.897\n",
      "[185]\tvalidation_0-rmse:7.75314\tvalidation_1-rmse:11.8899\n",
      "[186]\tvalidation_0-rmse:7.75131\tvalidation_1-rmse:11.8894\n",
      "[187]\tvalidation_0-rmse:7.74964\tvalidation_1-rmse:11.8854\n",
      "[188]\tvalidation_0-rmse:7.74913\tvalidation_1-rmse:11.8856\n",
      "[189]\tvalidation_0-rmse:7.74864\tvalidation_1-rmse:11.8792\n",
      "[190]\tvalidation_0-rmse:7.74733\tvalidation_1-rmse:11.8775\n",
      "[191]\tvalidation_0-rmse:7.74697\tvalidation_1-rmse:11.8781\n",
      "[192]\tvalidation_0-rmse:7.74644\tvalidation_1-rmse:11.8783\n",
      "[193]\tvalidation_0-rmse:7.74624\tvalidation_1-rmse:11.8787\n",
      "[194]\tvalidation_0-rmse:7.74486\tvalidation_1-rmse:11.876\n",
      "[195]\tvalidation_0-rmse:7.74403\tvalidation_1-rmse:11.8692\n",
      "[196]\tvalidation_0-rmse:7.7418\tvalidation_1-rmse:11.864\n",
      "[197]\tvalidation_0-rmse:7.74103\tvalidation_1-rmse:11.8553\n",
      "[198]\tvalidation_0-rmse:7.74055\tvalidation_1-rmse:11.848\n",
      "[199]\tvalidation_0-rmse:7.73945\tvalidation_1-rmse:11.8476\n",
      "[200]\tvalidation_0-rmse:7.73871\tvalidation_1-rmse:11.8465\n",
      "[201]\tvalidation_0-rmse:7.73748\tvalidation_1-rmse:11.8457\n",
      "[202]\tvalidation_0-rmse:7.73711\tvalidation_1-rmse:11.8397\n",
      "[203]\tvalidation_0-rmse:7.73673\tvalidation_1-rmse:11.8391\n",
      "[204]\tvalidation_0-rmse:7.73639\tvalidation_1-rmse:11.8397\n",
      "[205]\tvalidation_0-rmse:7.73177\tvalidation_1-rmse:11.8397\n",
      "[206]\tvalidation_0-rmse:7.73019\tvalidation_1-rmse:11.8395\n",
      "[207]\tvalidation_0-rmse:7.72546\tvalidation_1-rmse:11.8136\n",
      "[208]\tvalidation_0-rmse:7.72413\tvalidation_1-rmse:11.8078\n",
      "[209]\tvalidation_0-rmse:7.72364\tvalidation_1-rmse:11.8069\n",
      "[210]\tvalidation_0-rmse:7.72281\tvalidation_1-rmse:11.8067\n",
      "[211]\tvalidation_0-rmse:7.71819\tvalidation_1-rmse:11.8093\n",
      "[212]\tvalidation_0-rmse:7.71759\tvalidation_1-rmse:11.809\n",
      "[213]\tvalidation_0-rmse:7.71206\tvalidation_1-rmse:11.8091\n",
      "[214]\tvalidation_0-rmse:7.71109\tvalidation_1-rmse:11.8082\n",
      "[215]\tvalidation_0-rmse:7.71082\tvalidation_1-rmse:11.8078\n",
      "[216]\tvalidation_0-rmse:7.70969\tvalidation_1-rmse:11.8071\n",
      "[217]\tvalidation_0-rmse:7.70936\tvalidation_1-rmse:11.8022\n",
      "[218]\tvalidation_0-rmse:7.70913\tvalidation_1-rmse:11.8023\n",
      "[219]\tvalidation_0-rmse:7.70834\tvalidation_1-rmse:11.8016\n",
      "[220]\tvalidation_0-rmse:7.70775\tvalidation_1-rmse:11.7983\n",
      "[221]\tvalidation_0-rmse:7.70635\tvalidation_1-rmse:11.7937\n",
      "[222]\tvalidation_0-rmse:7.70617\tvalidation_1-rmse:11.794\n",
      "[223]\tvalidation_0-rmse:7.70466\tvalidation_1-rmse:11.789\n",
      "[224]\tvalidation_0-rmse:7.70409\tvalidation_1-rmse:11.7819\n",
      "[225]\tvalidation_0-rmse:7.70367\tvalidation_1-rmse:11.7823\n",
      "[226]\tvalidation_0-rmse:7.70343\tvalidation_1-rmse:11.7818\n",
      "[227]\tvalidation_0-rmse:7.70224\tvalidation_1-rmse:11.7812\n",
      "[228]\tvalidation_0-rmse:7.70206\tvalidation_1-rmse:11.7816\n",
      "[229]\tvalidation_0-rmse:7.70166\tvalidation_1-rmse:11.7769\n",
      "[230]\tvalidation_0-rmse:7.70138\tvalidation_1-rmse:11.783\n",
      "[231]\tvalidation_0-rmse:7.69998\tvalidation_1-rmse:11.7895\n",
      "[232]\tvalidation_0-rmse:7.69834\tvalidation_1-rmse:11.7872\n",
      "[233]\tvalidation_0-rmse:7.69793\tvalidation_1-rmse:11.7866\n",
      "[234]\tvalidation_0-rmse:7.69739\tvalidation_1-rmse:11.7858\n",
      "[235]\tvalidation_0-rmse:7.69593\tvalidation_1-rmse:11.7841\n",
      "[236]\tvalidation_0-rmse:7.6949\tvalidation_1-rmse:11.7819\n",
      "[237]\tvalidation_0-rmse:7.69461\tvalidation_1-rmse:11.7819\n",
      "[238]\tvalidation_0-rmse:7.69088\tvalidation_1-rmse:11.7805\n",
      "[239]\tvalidation_0-rmse:7.69029\tvalidation_1-rmse:11.7804\n",
      "Stopping. Best iteration:\n",
      "[229]\tvalidation_0-rmse:7.70166\tvalidation_1-rmse:11.7769\n",
      "\n"
     ]
    },
    {
     "data": {
      "text/plain": [
       "669.2752845287323"
      ]
     },
     "execution_count": 299,
     "metadata": {},
     "output_type": "execute_result"
    }
   ],
   "source": [
    "ts = time.time()\n",
    "\n",
    "model = XGBRegressor(\n",
    "    max_depth=10,\n",
    "    n_estimators=1000,\n",
    "    min_child_weight=300, \n",
    "    colsample_bytree=0.8, \n",
    "    subsample=0.8, \n",
    "    eta=0.3,    \n",
    "    seed=42)\n",
    "\n",
    "model.fit(\n",
    "    X_train, \n",
    "    Y_train, \n",
    "    eval_metric=\"rmse\", \n",
    "    eval_set=[(X_train, Y_train), (X_valid, Y_valid)], \n",
    "    verbose=True, \n",
    "    early_stopping_rounds = 10)\n",
    "\n",
    "time.time() - ts"
   ]
  },
  {
   "cell_type": "code",
   "execution_count": 300,
   "metadata": {
    "collapsed": false
   },
   "outputs": [
    {
     "data": {
      "text/plain": [
       "<matplotlib.axes._subplots.AxesSubplot at 0xb4492b0ba8>"
      ]
     },
     "execution_count": 300,
     "metadata": {},
     "output_type": "execute_result"
    },
    {
     "data": {
      "image/png": "[encoded data removed]",
      "text/plain": [
       "<Figure size 720x1008 with 1 Axes>"
      ]
     },
     "metadata": {},
     "output_type": "display_data"
    }
   ],
   "source": [
    "plot_features(model, (10,14))"
   ]
  },
  {
   "cell_type": "code",
   "execution_count": 163,
   "metadata": {
    "collapsed": false
   },
   "outputs": [
    {
     "data": {
      "text/html": [
       "<div>\n",
       "<style scoped>\n",
       "    .dataframe tbody tr th:only-of-type {\n",
       "        vertical-align: middle;\n",
       "    }\n",
       "\n",
       "    .dataframe tbody tr th {\n",
       "        vertical-align: top;\n",
       "    }\n",
       "\n",
       "    .dataframe thead th {\n",
       "        text-align: right;\n",
       "    }\n",
       "</style>\n",
       "<table border=\"1\" class=\"dataframe\">\n",
       "  <thead>\n",
       "    <tr style=\"text-align: right;\">\n",
       "      <th></th>\n",
       "      <th>ID</th>\n",
       "      <th>shop_id</th>\n",
       "      <th>item_id</th>\n",
       "      <th>key</th>\n",
       "    </tr>\n",
       "  </thead>\n",
       "  <tbody>\n",
       "    <tr>\n",
       "      <th>0</th>\n",
       "      <td>0</td>\n",
       "      <td>5</td>\n",
       "      <td>5037</td>\n",
       "      <td>55037</td>\n",
       "    </tr>\n",
       "    <tr>\n",
       "      <th>1</th>\n",
       "      <td>1</td>\n",
       "      <td>5</td>\n",
       "      <td>5320</td>\n",
       "      <td>55320</td>\n",
       "    </tr>\n",
       "    <tr>\n",
       "      <th>2</th>\n",
       "      <td>2</td>\n",
       "      <td>5</td>\n",
       "      <td>5233</td>\n",
       "      <td>55233</td>\n",
       "    </tr>\n",
       "    <tr>\n",
       "      <th>3</th>\n",
       "      <td>3</td>\n",
       "      <td>5</td>\n",
       "      <td>5232</td>\n",
       "      <td>55232</td>\n",
       "    </tr>\n",
       "    <tr>\n",
       "      <th>4</th>\n",
       "      <td>4</td>\n",
       "      <td>5</td>\n",
       "      <td>5268</td>\n",
       "      <td>55268</td>\n",
       "    </tr>\n",
       "  </tbody>\n",
       "</table>\n",
       "</div>"
      ],
      "text/plain": [
       "   ID  shop_id  item_id    key\n",
       "0   0        5     5037  55037\n",
       "1   1        5     5320  55320\n",
       "2   2        5     5233  55233\n",
       "3   3        5     5232  55232\n",
       "4   4        5     5268  55268"
      ]
     },
     "execution_count": 163,
     "metadata": {},
     "output_type": "execute_result"
    }
   ],
   "source": [
    "test_data.head()"
   ]
  },
  {
   "cell_type": "code",
   "execution_count": 283,
   "metadata": {
    "collapsed": true
   },
   "outputs": [],
   "source": [
    "Y_test = model.predict(X_test)"
   ]
  },
  {
   "cell_type": "code",
   "execution_count": 284,
   "metadata": {
    "collapsed": false
   },
   "outputs": [
    {
     "data": {
      "text/plain": [
       "(214200,)"
      ]
     },
     "execution_count": 284,
     "metadata": {},
     "output_type": "execute_result"
    }
   ],
   "source": [
    "Y_test.shape"
   ]
  },
  {
   "cell_type": "code",
   "execution_count": 285,
   "metadata": {
    "collapsed": false
   },
   "outputs": [
    {
     "data": {
      "text/plain": [
       "(214200, 7)"
      ]
     },
     "execution_count": 285,
     "metadata": {},
     "output_type": "execute_result"
    }
   ],
   "source": [
    "test_data.shape"
   ]
  },
  {
   "cell_type": "code",
   "execution_count": 286,
   "metadata": {
    "collapsed": false
   },
   "outputs": [],
   "source": [
    "submission = pd.DataFrame({\n",
    "    \"ID\": test_data.index, \n",
    "    \"item_cnt_month\": Y_test\n",
    "})"
   ]
  },
  {
   "cell_type": "code",
   "execution_count": 288,
   "metadata": {
    "collapsed": true
   },
   "outputs": [],
   "source": [
    "submission.to_csv('submission_03.csv',index=False)"
   ]
  },
  {
   "cell_type": "markdown",
   "metadata": {},
   "source": [
    "### Neural Network"
   ]
  },
  {
   "cell_type": "code",
   "execution_count": null,
   "metadata": {
    "collapsed": true
   },
   "outputs": [],
   "source": []
  }
 ],
 "metadata": {
  "anaconda-cloud": {},
  "kernelspec": {
   "display_name": "Python 3",
   "language": "python",
   "name": "python3"
  },
  "language_info": {
   "codemirror_mode": {
    "name": "ipython",
    "version": 3
   },
   "file_extension": ".py",
   "mimetype": "text/x-python",
   "name": "python",
   "nbconvert_exporter": "python",
   "pygments_lexer": "ipython3",
   "version": "3.5.2"
  }
 },
 "nbformat": 4,
 "nbformat_minor": 1
}
